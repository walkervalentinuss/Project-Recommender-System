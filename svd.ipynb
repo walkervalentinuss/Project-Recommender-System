{
 "cells": [
  {
   "cell_type": "markdown",
   "metadata": {},
   "source": [
    "# Section 1 | Import Libraries and Load Data"
   ]
  },
  {
   "cell_type": "code",
   "execution_count": 1,
   "metadata": {},
   "outputs": [],
   "source": [
    "import pandas as pd\n",
    "import numpy as np\n",
    "import scipy.stats\n",
    "import seaborn as sns\n",
    "import matplotlib.pyplot as plt\n",
    "from sklearn.model_selection import train_test_split\n",
    "from sklearn.metrics import mean_squared_error"
   ]
  },
  {
   "cell_type": "code",
   "execution_count": 2,
   "metadata": {},
   "outputs": [],
   "source": [
    "data = pd.read_csv(\"data/Tempat-Wisata-Toba-Preprocessing.csv\")"
   ]
  },
  {
   "cell_type": "code",
   "execution_count": 3,
   "metadata": {},
   "outputs": [
    {
     "data": {
      "text/plain": [
       "(43226, 9)"
      ]
     },
     "execution_count": 3,
     "metadata": {},
     "output_type": "execute_result"
    }
   ],
   "source": [
    "data.shape"
   ]
  },
  {
   "cell_type": "code",
   "execution_count": 4,
   "metadata": {},
   "outputs": [
    {
     "data": {
      "text/plain": [
       "Index(['Unnamed: 0.1', 'Unnamed: 0', 'address', 'PlaceID',\n",
       "       'Nama_tempat_wisata', 'Category', 'ReviewerId', 'Rating', 'Reviews'],\n",
       "      dtype='object')"
      ]
     },
     "execution_count": 4,
     "metadata": {},
     "output_type": "execute_result"
    }
   ],
   "source": [
    "data.columns"
   ]
  },
  {
   "cell_type": "code",
   "execution_count": 5,
   "metadata": {},
   "outputs": [
    {
     "data": {
      "text/html": [
       "<div>\n",
       "<style scoped>\n",
       "    .dataframe tbody tr th:only-of-type {\n",
       "        vertical-align: middle;\n",
       "    }\n",
       "\n",
       "    .dataframe tbody tr th {\n",
       "        vertical-align: top;\n",
       "    }\n",
       "\n",
       "    .dataframe thead th {\n",
       "        text-align: right;\n",
       "    }\n",
       "</style>\n",
       "<table border=\"1\" class=\"dataframe\">\n",
       "  <thead>\n",
       "    <tr style=\"text-align: right;\">\n",
       "      <th></th>\n",
       "      <th>Unnamed: 0.1</th>\n",
       "      <th>Unnamed: 0</th>\n",
       "      <th>address</th>\n",
       "      <th>item_id</th>\n",
       "      <th>Nama_tempat_wisata</th>\n",
       "      <th>Category</th>\n",
       "      <th>user_id</th>\n",
       "      <th>rating</th>\n",
       "      <th>Reviews</th>\n",
       "    </tr>\n",
       "  </thead>\n",
       "  <tbody>\n",
       "    <tr>\n",
       "      <th>1</th>\n",
       "      <td>1</td>\n",
       "      <td>1</td>\n",
       "      <td>Jl. Sibola Hotang, Sibola Hotangsas, Kec. Bali...</td>\n",
       "      <td>0</td>\n",
       "      <td>PASIR PUTIH LUMBAN BULBUL</td>\n",
       "      <td>Wisata Bahari</td>\n",
       "      <td>1.119090e+20</td>\n",
       "      <td>5.0</td>\n",
       "      <td>bagus</td>\n",
       "    </tr>\n",
       "    <tr>\n",
       "      <th>3</th>\n",
       "      <td>3</td>\n",
       "      <td>3</td>\n",
       "      <td>Jl. Sibola Hotang, Sibola Hotangsas, Kec. Bali...</td>\n",
       "      <td>0</td>\n",
       "      <td>PASIR PUTIH LUMBAN BULBUL</td>\n",
       "      <td>Wisata Bahari</td>\n",
       "      <td>1.130720e+20</td>\n",
       "      <td>5.0</td>\n",
       "      <td>sangat menyenagkan</td>\n",
       "    </tr>\n",
       "    <tr>\n",
       "      <th>4</th>\n",
       "      <td>4</td>\n",
       "      <td>4</td>\n",
       "      <td>Jl. Sibola Hotang, Sibola Hotangsas, Kec. Bali...</td>\n",
       "      <td>0</td>\n",
       "      <td>PASIR PUTIH LUMBAN BULBUL</td>\n",
       "      <td>Wisata Bahari</td>\n",
       "      <td>1.061730e+20</td>\n",
       "      <td>5.0</td>\n",
       "      <td>bebas foto dimana aja cuma 2k</td>\n",
       "    </tr>\n",
       "    <tr>\n",
       "      <th>6</th>\n",
       "      <td>6</td>\n",
       "      <td>6</td>\n",
       "      <td>Jl. Sibola Hotang, Sibola Hotangsas, Kec. Bali...</td>\n",
       "      <td>0</td>\n",
       "      <td>PASIR PUTIH LUMBAN BULBUL</td>\n",
       "      <td>Wisata Bahari</td>\n",
       "      <td>1.142390e+20</td>\n",
       "      <td>5.0</td>\n",
       "      <td>amazing pengen kesini lagi</td>\n",
       "    </tr>\n",
       "    <tr>\n",
       "      <th>8</th>\n",
       "      <td>8</td>\n",
       "      <td>8</td>\n",
       "      <td>Jl. Sibola Hotang, Sibola Hotangsas, Kec. Bali...</td>\n",
       "      <td>0</td>\n",
       "      <td>PASIR PUTIH LUMBAN BULBUL</td>\n",
       "      <td>Wisata Bahari</td>\n",
       "      <td>1.047430e+20</td>\n",
       "      <td>3.0</td>\n",
       "      <td>jalan menuju lokasi perlu diperhatikan oleh pe...</td>\n",
       "    </tr>\n",
       "  </tbody>\n",
       "</table>\n",
       "</div>"
      ],
      "text/plain": [
       "   Unnamed: 0.1  Unnamed: 0  \\\n",
       "1             1           1   \n",
       "3             3           3   \n",
       "4             4           4   \n",
       "6             6           6   \n",
       "8             8           8   \n",
       "\n",
       "                                             address  item_id  \\\n",
       "1  Jl. Sibola Hotang, Sibola Hotangsas, Kec. Bali...        0   \n",
       "3  Jl. Sibola Hotang, Sibola Hotangsas, Kec. Bali...        0   \n",
       "4  Jl. Sibola Hotang, Sibola Hotangsas, Kec. Bali...        0   \n",
       "6  Jl. Sibola Hotang, Sibola Hotangsas, Kec. Bali...        0   \n",
       "8  Jl. Sibola Hotang, Sibola Hotangsas, Kec. Bali...        0   \n",
       "\n",
       "          Nama_tempat_wisata       Category       user_id  rating  \\\n",
       "1  PASIR PUTIH LUMBAN BULBUL  Wisata Bahari  1.119090e+20     5.0   \n",
       "3  PASIR PUTIH LUMBAN BULBUL  Wisata Bahari  1.130720e+20     5.0   \n",
       "4  PASIR PUTIH LUMBAN BULBUL  Wisata Bahari  1.061730e+20     5.0   \n",
       "6  PASIR PUTIH LUMBAN BULBUL  Wisata Bahari  1.142390e+20     5.0   \n",
       "8  PASIR PUTIH LUMBAN BULBUL  Wisata Bahari  1.047430e+20     3.0   \n",
       "\n",
       "                                             Reviews  \n",
       "1                                              bagus  \n",
       "3                                 sangat menyenagkan  \n",
       "4                      bebas foto dimana aja cuma 2k  \n",
       "6                         amazing pengen kesini lagi  \n",
       "8  jalan menuju lokasi perlu diperhatikan oleh pe...  "
      ]
     },
     "execution_count": 5,
     "metadata": {},
     "output_type": "execute_result"
    }
   ],
   "source": [
    "data = data.rename(columns={'ReviewerId': 'user_id', 'PlaceID': 'item_id', 'Rating': 'rating'})\n",
    "data['rating'] = data['rating'].astype(float)\n",
    "data.dropna(inplace=True)\n",
    "data.head(5)"
   ]
  },
  {
   "cell_type": "code",
   "execution_count": 6,
   "metadata": {},
   "outputs": [
    {
     "data": {
      "text/html": [
       "<div>\n",
       "<style scoped>\n",
       "    .dataframe tbody tr th:only-of-type {\n",
       "        vertical-align: middle;\n",
       "    }\n",
       "\n",
       "    .dataframe tbody tr th {\n",
       "        vertical-align: top;\n",
       "    }\n",
       "\n",
       "    .dataframe thead th {\n",
       "        text-align: right;\n",
       "    }\n",
       "</style>\n",
       "<table border=\"1\" class=\"dataframe\">\n",
       "  <thead>\n",
       "    <tr style=\"text-align: right;\">\n",
       "      <th></th>\n",
       "      <th>item_id</th>\n",
       "      <th>Nama_tempat_wisata</th>\n",
       "      <th>user_id</th>\n",
       "      <th>rating</th>\n",
       "    </tr>\n",
       "  </thead>\n",
       "  <tbody>\n",
       "    <tr>\n",
       "      <th>1</th>\n",
       "      <td>0</td>\n",
       "      <td>PASIR PUTIH LUMBAN BULBUL</td>\n",
       "      <td>1.119090e+20</td>\n",
       "      <td>5.0</td>\n",
       "    </tr>\n",
       "    <tr>\n",
       "      <th>3</th>\n",
       "      <td>0</td>\n",
       "      <td>PASIR PUTIH LUMBAN BULBUL</td>\n",
       "      <td>1.130720e+20</td>\n",
       "      <td>5.0</td>\n",
       "    </tr>\n",
       "    <tr>\n",
       "      <th>4</th>\n",
       "      <td>0</td>\n",
       "      <td>PASIR PUTIH LUMBAN BULBUL</td>\n",
       "      <td>1.061730e+20</td>\n",
       "      <td>5.0</td>\n",
       "    </tr>\n",
       "    <tr>\n",
       "      <th>6</th>\n",
       "      <td>0</td>\n",
       "      <td>PASIR PUTIH LUMBAN BULBUL</td>\n",
       "      <td>1.142390e+20</td>\n",
       "      <td>5.0</td>\n",
       "    </tr>\n",
       "    <tr>\n",
       "      <th>8</th>\n",
       "      <td>0</td>\n",
       "      <td>PASIR PUTIH LUMBAN BULBUL</td>\n",
       "      <td>1.047430e+20</td>\n",
       "      <td>3.0</td>\n",
       "    </tr>\n",
       "  </tbody>\n",
       "</table>\n",
       "</div>"
      ],
      "text/plain": [
       "   item_id         Nama_tempat_wisata       user_id  rating\n",
       "1        0  PASIR PUTIH LUMBAN BULBUL  1.119090e+20     5.0\n",
       "3        0  PASIR PUTIH LUMBAN BULBUL  1.130720e+20     5.0\n",
       "4        0  PASIR PUTIH LUMBAN BULBUL  1.061730e+20     5.0\n",
       "6        0  PASIR PUTIH LUMBAN BULBUL  1.142390e+20     5.0\n",
       "8        0  PASIR PUTIH LUMBAN BULBUL  1.047430e+20     3.0"
      ]
     },
     "execution_count": 6,
     "metadata": {},
     "output_type": "execute_result"
    }
   ],
   "source": [
    "col_to_drop = ['Unnamed: 0.1', 'Unnamed: 0', 'address', 'Category', 'Reviews']\n",
    "data = data.drop(columns=col_to_drop)\n",
    "data.head()"
   ]
  },
  {
   "cell_type": "code",
   "execution_count": 7,
   "metadata": {},
   "outputs": [
    {
     "data": {
      "text/plain": [
       "(22166, 4)"
      ]
     },
     "execution_count": 7,
     "metadata": {},
     "output_type": "execute_result"
    }
   ],
   "source": [
    "data.shape"
   ]
  },
  {
   "cell_type": "markdown",
   "metadata": {},
   "source": [
    "# Section 2 | Data Splitting"
   ]
  },
  {
   "cell_type": "code",
   "execution_count": 8,
   "metadata": {},
   "outputs": [
    {
     "name": "stdout",
     "output_type": "stream",
     "text": [
      "Train data size: (15638, 4)\n",
      "Validation data size: (3203, 4)\n",
      "Test data size: (3325, 4)\n"
     ]
    }
   ],
   "source": [
    "# Step 1: Split into 85% training+validation and 15% test\n",
    "train_val_data, test_data = train_test_split(data, test_size=0.15, random_state=42)\n",
    "# Step 2: Define validation size as 17% of train+validation, rounded up\n",
    "val_size = int(len(train_val_data) * 0.17) + 1\n",
    "# Step 3: Split 85% data into training (about 70% of original) and validation (about 15% of original)\n",
    "train_data, val_data = train_test_split(train_val_data, test_size=val_size, random_state=42)\n",
    "# Check sizes\n",
    "print(f\"Train data size: {train_data.shape}\")\n",
    "print(f\"Validation data size: {val_data.shape}\")\n",
    "print(f\"Test data size: {test_data.shape}\")"
   ]
  },
  {
   "cell_type": "markdown",
   "metadata": {},
   "source": [
    "# Section 3 | Create User-Item Matrix"
   ]
  },
  {
   "cell_type": "code",
   "execution_count": 9,
   "metadata": {},
   "outputs": [],
   "source": [
    "def create_user_item_matrix(data, user_col='user_id', item_col='Nama_tempat_wisata', rating_col='rating'):\n",
    "    data = data.groupby([user_col, item_col])[rating_col].mean().reset_index()\n",
    "    return data.pivot(index=user_col, columns=item_col, values=rating_col).fillna(0)\n",
    "\n",
    "# Apply the function to create matrices for each split\n",
    "train_matrix = create_user_item_matrix(train_data)\n",
    "val_matrix = create_user_item_matrix(val_data).reindex(columns=train_matrix.columns, fill_value=0)\n",
    "test_matrix = create_user_item_matrix(test_data).reindex(columns=train_matrix.columns, fill_value=0)"
   ]
  },
  {
   "cell_type": "code",
   "execution_count": 10,
   "metadata": {},
   "outputs": [
    {
     "data": {
      "text/html": [
       "<div>\n",
       "<style scoped>\n",
       "    .dataframe tbody tr th:only-of-type {\n",
       "        vertical-align: middle;\n",
       "    }\n",
       "\n",
       "    .dataframe tbody tr th {\n",
       "        vertical-align: top;\n",
       "    }\n",
       "\n",
       "    .dataframe thead th {\n",
       "        text-align: right;\n",
       "    }\n",
       "</style>\n",
       "<table border=\"1\" class=\"dataframe\">\n",
       "  <thead>\n",
       "    <tr style=\"text-align: right;\">\n",
       "      <th>Nama_tempat_wisata</th>\n",
       "      <th>Aek Rangat Pangururan</th>\n",
       "      <th>Aek Sipangolu Bakkara</th>\n",
       "      <th>Air Terjun Efrata</th>\n",
       "      <th>Air Terjun Janji</th>\n",
       "      <th>Air Terjun Pandumaan</th>\n",
       "      <th>Air Terjun Sampuran</th>\n",
       "      <th>Air Terjun Siboruon</th>\n",
       "      <th>Air Terjun Situmurun</th>\n",
       "      <th>Air Terjun Taman Eden 100</th>\n",
       "      <th>Air Terjun Tombak Pangaribuan</th>\n",
       "      <th>...</th>\n",
       "      <th>Tao Silalahi Hotel</th>\n",
       "      <th>Tarabunga</th>\n",
       "      <th>Tempat Pengasingan Soekarno</th>\n",
       "      <th>The Kaldera</th>\n",
       "      <th>Tombak Sulusulu</th>\n",
       "      <th>Tugu D.I PANJAITAN</th>\n",
       "      <th>Tugu Toga Aritonang</th>\n",
       "      <th>WF Coffee&amp;Resto</th>\n",
       "      <th>Wisata Bukit Gibeon</th>\n",
       "      <th>Wisata Rumah Pohon</th>\n",
       "    </tr>\n",
       "    <tr>\n",
       "      <th>user_id</th>\n",
       "      <th></th>\n",
       "      <th></th>\n",
       "      <th></th>\n",
       "      <th></th>\n",
       "      <th></th>\n",
       "      <th></th>\n",
       "      <th></th>\n",
       "      <th></th>\n",
       "      <th></th>\n",
       "      <th></th>\n",
       "      <th></th>\n",
       "      <th></th>\n",
       "      <th></th>\n",
       "      <th></th>\n",
       "      <th></th>\n",
       "      <th></th>\n",
       "      <th></th>\n",
       "      <th></th>\n",
       "      <th></th>\n",
       "      <th></th>\n",
       "      <th></th>\n",
       "    </tr>\n",
       "  </thead>\n",
       "  <tbody>\n",
       "    <tr>\n",
       "      <th>1.000030e+20</th>\n",
       "      <td>0.0</td>\n",
       "      <td>0.0</td>\n",
       "      <td>0.0</td>\n",
       "      <td>0.0</td>\n",
       "      <td>0.0</td>\n",
       "      <td>0.0</td>\n",
       "      <td>0.0</td>\n",
       "      <td>0.0</td>\n",
       "      <td>0.0</td>\n",
       "      <td>0.0</td>\n",
       "      <td>...</td>\n",
       "      <td>0.0</td>\n",
       "      <td>0.0</td>\n",
       "      <td>0.0</td>\n",
       "      <td>0.0</td>\n",
       "      <td>0.0</td>\n",
       "      <td>0.0</td>\n",
       "      <td>0.0</td>\n",
       "      <td>0.0</td>\n",
       "      <td>0.0</td>\n",
       "      <td>0.0</td>\n",
       "    </tr>\n",
       "    <tr>\n",
       "      <th>1.000040e+20</th>\n",
       "      <td>0.0</td>\n",
       "      <td>0.0</td>\n",
       "      <td>0.0</td>\n",
       "      <td>0.0</td>\n",
       "      <td>0.0</td>\n",
       "      <td>0.0</td>\n",
       "      <td>0.0</td>\n",
       "      <td>0.0</td>\n",
       "      <td>0.0</td>\n",
       "      <td>0.0</td>\n",
       "      <td>...</td>\n",
       "      <td>0.0</td>\n",
       "      <td>0.0</td>\n",
       "      <td>0.0</td>\n",
       "      <td>0.0</td>\n",
       "      <td>0.0</td>\n",
       "      <td>0.0</td>\n",
       "      <td>0.0</td>\n",
       "      <td>0.0</td>\n",
       "      <td>0.0</td>\n",
       "      <td>0.0</td>\n",
       "    </tr>\n",
       "    <tr>\n",
       "      <th>1.000090e+20</th>\n",
       "      <td>0.0</td>\n",
       "      <td>0.0</td>\n",
       "      <td>0.0</td>\n",
       "      <td>0.0</td>\n",
       "      <td>0.0</td>\n",
       "      <td>0.0</td>\n",
       "      <td>0.0</td>\n",
       "      <td>0.0</td>\n",
       "      <td>0.0</td>\n",
       "      <td>0.0</td>\n",
       "      <td>...</td>\n",
       "      <td>0.0</td>\n",
       "      <td>0.0</td>\n",
       "      <td>0.0</td>\n",
       "      <td>0.0</td>\n",
       "      <td>0.0</td>\n",
       "      <td>0.0</td>\n",
       "      <td>0.0</td>\n",
       "      <td>0.0</td>\n",
       "      <td>0.0</td>\n",
       "      <td>0.0</td>\n",
       "    </tr>\n",
       "    <tr>\n",
       "      <th>1.000100e+20</th>\n",
       "      <td>0.0</td>\n",
       "      <td>0.0</td>\n",
       "      <td>0.0</td>\n",
       "      <td>0.0</td>\n",
       "      <td>0.0</td>\n",
       "      <td>0.0</td>\n",
       "      <td>0.0</td>\n",
       "      <td>0.0</td>\n",
       "      <td>0.0</td>\n",
       "      <td>0.0</td>\n",
       "      <td>...</td>\n",
       "      <td>0.0</td>\n",
       "      <td>0.0</td>\n",
       "      <td>0.0</td>\n",
       "      <td>0.0</td>\n",
       "      <td>0.0</td>\n",
       "      <td>0.0</td>\n",
       "      <td>0.0</td>\n",
       "      <td>0.0</td>\n",
       "      <td>0.0</td>\n",
       "      <td>0.0</td>\n",
       "    </tr>\n",
       "    <tr>\n",
       "      <th>1.000120e+20</th>\n",
       "      <td>0.0</td>\n",
       "      <td>0.0</td>\n",
       "      <td>0.0</td>\n",
       "      <td>0.0</td>\n",
       "      <td>0.0</td>\n",
       "      <td>0.0</td>\n",
       "      <td>0.0</td>\n",
       "      <td>0.0</td>\n",
       "      <td>0.0</td>\n",
       "      <td>0.0</td>\n",
       "      <td>...</td>\n",
       "      <td>5.0</td>\n",
       "      <td>0.0</td>\n",
       "      <td>0.0</td>\n",
       "      <td>0.0</td>\n",
       "      <td>0.0</td>\n",
       "      <td>0.0</td>\n",
       "      <td>0.0</td>\n",
       "      <td>0.0</td>\n",
       "      <td>0.0</td>\n",
       "      <td>0.0</td>\n",
       "    </tr>\n",
       "    <tr>\n",
       "      <th>...</th>\n",
       "      <td>...</td>\n",
       "      <td>...</td>\n",
       "      <td>...</td>\n",
       "      <td>...</td>\n",
       "      <td>...</td>\n",
       "      <td>...</td>\n",
       "      <td>...</td>\n",
       "      <td>...</td>\n",
       "      <td>...</td>\n",
       "      <td>...</td>\n",
       "      <td>...</td>\n",
       "      <td>...</td>\n",
       "      <td>...</td>\n",
       "      <td>...</td>\n",
       "      <td>...</td>\n",
       "      <td>...</td>\n",
       "      <td>...</td>\n",
       "      <td>...</td>\n",
       "      <td>...</td>\n",
       "      <td>...</td>\n",
       "      <td>...</td>\n",
       "    </tr>\n",
       "    <tr>\n",
       "      <th>1.184390e+20</th>\n",
       "      <td>0.0</td>\n",
       "      <td>0.0</td>\n",
       "      <td>0.0</td>\n",
       "      <td>0.0</td>\n",
       "      <td>0.0</td>\n",
       "      <td>0.0</td>\n",
       "      <td>0.0</td>\n",
       "      <td>0.0</td>\n",
       "      <td>0.0</td>\n",
       "      <td>0.0</td>\n",
       "      <td>...</td>\n",
       "      <td>0.0</td>\n",
       "      <td>0.0</td>\n",
       "      <td>0.0</td>\n",
       "      <td>0.0</td>\n",
       "      <td>0.0</td>\n",
       "      <td>0.0</td>\n",
       "      <td>0.0</td>\n",
       "      <td>0.0</td>\n",
       "      <td>0.0</td>\n",
       "      <td>0.0</td>\n",
       "    </tr>\n",
       "    <tr>\n",
       "      <th>1.184410e+20</th>\n",
       "      <td>0.0</td>\n",
       "      <td>0.0</td>\n",
       "      <td>0.0</td>\n",
       "      <td>0.0</td>\n",
       "      <td>0.0</td>\n",
       "      <td>0.0</td>\n",
       "      <td>0.0</td>\n",
       "      <td>0.0</td>\n",
       "      <td>0.0</td>\n",
       "      <td>0.0</td>\n",
       "      <td>...</td>\n",
       "      <td>0.0</td>\n",
       "      <td>0.0</td>\n",
       "      <td>0.0</td>\n",
       "      <td>0.0</td>\n",
       "      <td>0.0</td>\n",
       "      <td>0.0</td>\n",
       "      <td>0.0</td>\n",
       "      <td>0.0</td>\n",
       "      <td>0.0</td>\n",
       "      <td>0.0</td>\n",
       "    </tr>\n",
       "    <tr>\n",
       "      <th>1.184430e+20</th>\n",
       "      <td>0.0</td>\n",
       "      <td>0.0</td>\n",
       "      <td>0.0</td>\n",
       "      <td>0.0</td>\n",
       "      <td>0.0</td>\n",
       "      <td>0.0</td>\n",
       "      <td>0.0</td>\n",
       "      <td>0.0</td>\n",
       "      <td>0.0</td>\n",
       "      <td>0.0</td>\n",
       "      <td>...</td>\n",
       "      <td>0.0</td>\n",
       "      <td>0.0</td>\n",
       "      <td>0.0</td>\n",
       "      <td>0.0</td>\n",
       "      <td>0.0</td>\n",
       "      <td>0.0</td>\n",
       "      <td>0.0</td>\n",
       "      <td>0.0</td>\n",
       "      <td>0.0</td>\n",
       "      <td>0.0</td>\n",
       "    </tr>\n",
       "    <tr>\n",
       "      <th>1.184440e+20</th>\n",
       "      <td>0.0</td>\n",
       "      <td>0.0</td>\n",
       "      <td>0.0</td>\n",
       "      <td>0.0</td>\n",
       "      <td>0.0</td>\n",
       "      <td>0.0</td>\n",
       "      <td>0.0</td>\n",
       "      <td>0.0</td>\n",
       "      <td>0.0</td>\n",
       "      <td>0.0</td>\n",
       "      <td>...</td>\n",
       "      <td>0.0</td>\n",
       "      <td>0.0</td>\n",
       "      <td>0.0</td>\n",
       "      <td>0.0</td>\n",
       "      <td>0.0</td>\n",
       "      <td>0.0</td>\n",
       "      <td>0.0</td>\n",
       "      <td>0.0</td>\n",
       "      <td>0.0</td>\n",
       "      <td>0.0</td>\n",
       "    </tr>\n",
       "    <tr>\n",
       "      <th>1.184460e+20</th>\n",
       "      <td>0.0</td>\n",
       "      <td>0.0</td>\n",
       "      <td>0.0</td>\n",
       "      <td>0.0</td>\n",
       "      <td>0.0</td>\n",
       "      <td>0.0</td>\n",
       "      <td>0.0</td>\n",
       "      <td>0.0</td>\n",
       "      <td>0.0</td>\n",
       "      <td>0.0</td>\n",
       "      <td>...</td>\n",
       "      <td>0.0</td>\n",
       "      <td>0.0</td>\n",
       "      <td>0.0</td>\n",
       "      <td>0.0</td>\n",
       "      <td>0.0</td>\n",
       "      <td>0.0</td>\n",
       "      <td>0.0</td>\n",
       "      <td>0.0</td>\n",
       "      <td>0.0</td>\n",
       "      <td>0.0</td>\n",
       "    </tr>\n",
       "  </tbody>\n",
       "</table>\n",
       "<p>8905 rows × 98 columns</p>\n",
       "</div>"
      ],
      "text/plain": [
       "Nama_tempat_wisata  Aek Rangat Pangururan  Aek Sipangolu Bakkara  \\\n",
       "user_id                                                            \n",
       "1.000030e+20                          0.0                    0.0   \n",
       "1.000040e+20                          0.0                    0.0   \n",
       "1.000090e+20                          0.0                    0.0   \n",
       "1.000100e+20                          0.0                    0.0   \n",
       "1.000120e+20                          0.0                    0.0   \n",
       "...                                   ...                    ...   \n",
       "1.184390e+20                          0.0                    0.0   \n",
       "1.184410e+20                          0.0                    0.0   \n",
       "1.184430e+20                          0.0                    0.0   \n",
       "1.184440e+20                          0.0                    0.0   \n",
       "1.184460e+20                          0.0                    0.0   \n",
       "\n",
       "Nama_tempat_wisata  Air Terjun Efrata  Air Terjun Janji  Air Terjun Pandumaan  \\\n",
       "user_id                                                                         \n",
       "1.000030e+20                      0.0               0.0                   0.0   \n",
       "1.000040e+20                      0.0               0.0                   0.0   \n",
       "1.000090e+20                      0.0               0.0                   0.0   \n",
       "1.000100e+20                      0.0               0.0                   0.0   \n",
       "1.000120e+20                      0.0               0.0                   0.0   \n",
       "...                               ...               ...                   ...   \n",
       "1.184390e+20                      0.0               0.0                   0.0   \n",
       "1.184410e+20                      0.0               0.0                   0.0   \n",
       "1.184430e+20                      0.0               0.0                   0.0   \n",
       "1.184440e+20                      0.0               0.0                   0.0   \n",
       "1.184460e+20                      0.0               0.0                   0.0   \n",
       "\n",
       "Nama_tempat_wisata  Air Terjun Sampuran  Air Terjun Siboruon  \\\n",
       "user_id                                                        \n",
       "1.000030e+20                        0.0                  0.0   \n",
       "1.000040e+20                        0.0                  0.0   \n",
       "1.000090e+20                        0.0                  0.0   \n",
       "1.000100e+20                        0.0                  0.0   \n",
       "1.000120e+20                        0.0                  0.0   \n",
       "...                                 ...                  ...   \n",
       "1.184390e+20                        0.0                  0.0   \n",
       "1.184410e+20                        0.0                  0.0   \n",
       "1.184430e+20                        0.0                  0.0   \n",
       "1.184440e+20                        0.0                  0.0   \n",
       "1.184460e+20                        0.0                  0.0   \n",
       "\n",
       "Nama_tempat_wisata  Air Terjun Situmurun  Air Terjun Taman Eden 100  \\\n",
       "user_id                                                               \n",
       "1.000030e+20                         0.0                        0.0   \n",
       "1.000040e+20                         0.0                        0.0   \n",
       "1.000090e+20                         0.0                        0.0   \n",
       "1.000100e+20                         0.0                        0.0   \n",
       "1.000120e+20                         0.0                        0.0   \n",
       "...                                  ...                        ...   \n",
       "1.184390e+20                         0.0                        0.0   \n",
       "1.184410e+20                         0.0                        0.0   \n",
       "1.184430e+20                         0.0                        0.0   \n",
       "1.184440e+20                         0.0                        0.0   \n",
       "1.184460e+20                         0.0                        0.0   \n",
       "\n",
       "Nama_tempat_wisata  Air Terjun Tombak Pangaribuan  ...  Tao Silalahi Hotel  \\\n",
       "user_id                                            ...                       \n",
       "1.000030e+20                                  0.0  ...                 0.0   \n",
       "1.000040e+20                                  0.0  ...                 0.0   \n",
       "1.000090e+20                                  0.0  ...                 0.0   \n",
       "1.000100e+20                                  0.0  ...                 0.0   \n",
       "1.000120e+20                                  0.0  ...                 5.0   \n",
       "...                                           ...  ...                 ...   \n",
       "1.184390e+20                                  0.0  ...                 0.0   \n",
       "1.184410e+20                                  0.0  ...                 0.0   \n",
       "1.184430e+20                                  0.0  ...                 0.0   \n",
       "1.184440e+20                                  0.0  ...                 0.0   \n",
       "1.184460e+20                                  0.0  ...                 0.0   \n",
       "\n",
       "Nama_tempat_wisata  Tarabunga  Tempat Pengasingan Soekarno  The Kaldera  \\\n",
       "user_id                                                                   \n",
       "1.000030e+20              0.0                          0.0          0.0   \n",
       "1.000040e+20              0.0                          0.0          0.0   \n",
       "1.000090e+20              0.0                          0.0          0.0   \n",
       "1.000100e+20              0.0                          0.0          0.0   \n",
       "1.000120e+20              0.0                          0.0          0.0   \n",
       "...                       ...                          ...          ...   \n",
       "1.184390e+20              0.0                          0.0          0.0   \n",
       "1.184410e+20              0.0                          0.0          0.0   \n",
       "1.184430e+20              0.0                          0.0          0.0   \n",
       "1.184440e+20              0.0                          0.0          0.0   \n",
       "1.184460e+20              0.0                          0.0          0.0   \n",
       "\n",
       "Nama_tempat_wisata  Tombak Sulusulu  Tugu D.I PANJAITAN  Tugu Toga Aritonang  \\\n",
       "user_id                                                                        \n",
       "1.000030e+20                    0.0                 0.0                  0.0   \n",
       "1.000040e+20                    0.0                 0.0                  0.0   \n",
       "1.000090e+20                    0.0                 0.0                  0.0   \n",
       "1.000100e+20                    0.0                 0.0                  0.0   \n",
       "1.000120e+20                    0.0                 0.0                  0.0   \n",
       "...                             ...                 ...                  ...   \n",
       "1.184390e+20                    0.0                 0.0                  0.0   \n",
       "1.184410e+20                    0.0                 0.0                  0.0   \n",
       "1.184430e+20                    0.0                 0.0                  0.0   \n",
       "1.184440e+20                    0.0                 0.0                  0.0   \n",
       "1.184460e+20                    0.0                 0.0                  0.0   \n",
       "\n",
       "Nama_tempat_wisata  WF Coffee&Resto  Wisata Bukit Gibeon  Wisata Rumah Pohon  \n",
       "user_id                                                                       \n",
       "1.000030e+20                    0.0                  0.0                 0.0  \n",
       "1.000040e+20                    0.0                  0.0                 0.0  \n",
       "1.000090e+20                    0.0                  0.0                 0.0  \n",
       "1.000100e+20                    0.0                  0.0                 0.0  \n",
       "1.000120e+20                    0.0                  0.0                 0.0  \n",
       "...                             ...                  ...                 ...  \n",
       "1.184390e+20                    0.0                  0.0                 0.0  \n",
       "1.184410e+20                    0.0                  0.0                 0.0  \n",
       "1.184430e+20                    0.0                  0.0                 0.0  \n",
       "1.184440e+20                    0.0                  0.0                 0.0  \n",
       "1.184460e+20                    0.0                  0.0                 0.0  \n",
       "\n",
       "[8905 rows x 98 columns]"
      ]
     },
     "execution_count": 10,
     "metadata": {},
     "output_type": "execute_result"
    }
   ],
   "source": [
    "train_matrix"
   ]
  },
  {
   "cell_type": "markdown",
   "metadata": {},
   "source": [
    "# Define RMSE, MAE, MAP, Precision, & Recall Calculation Function "
   ]
  },
  {
   "cell_type": "code",
   "execution_count": 11,
   "metadata": {},
   "outputs": [],
   "source": [
    "def compute_rmse(true_matrix, approx_matrix):\n",
    "    return np.sqrt(mean_squared_error(true_matrix.ravel(), approx_matrix.ravel()))"
   ]
  },
  {
   "cell_type": "code",
   "execution_count": 12,
   "metadata": {},
   "outputs": [],
   "source": [
    "from sklearn.metrics import mean_absolute_error\n",
    "\n",
    "def compute_mae(true_matrix, approx_matrix):\n",
    "    return mean_absolute_error(true_matrix.ravel(), approx_matrix.ravel())"
   ]
  },
  {
   "cell_type": "code",
   "execution_count": 13,
   "metadata": {},
   "outputs": [],
   "source": [
    "def precision_at_k(true_matrix, approx_matrix, k=10):\n",
    "    \"\"\"\n",
    "    Computes Precision@k for the recommendation system.\n",
    "    \"\"\"\n",
    "    precision = []\n",
    "    for i in range(true_matrix.shape[0]):\n",
    "        true_ratings = true_matrix.values[i]  # Use .values to get the underlying NumPy array\n",
    "        approx_ratings = approx_matrix[i]\n",
    "        \n",
    "        # Get indices of top-k recommended items\n",
    "        top_k_indices = np.argsort(approx_ratings)[::-1][:k]\n",
    "        \n",
    "        # Check how many of the top-k recommended items are actually relevant (non-zero rating)\n",
    "        relevant_items = np.sum(true_ratings[top_k_indices] > 0)\n",
    "        precision.append(relevant_items / k)\n",
    "    \n",
    "    return np.mean(precision)"
   ]
  },
  {
   "cell_type": "code",
   "execution_count": 14,
   "metadata": {},
   "outputs": [],
   "source": [
    "def recall_at_k(true_matrix, approx_matrix, k=10):\n",
    "    \"\"\"\n",
    "    Computes Recall@k for the recommendation system.\n",
    "    \"\"\"\n",
    "    recall = []\n",
    "    for i in range(true_matrix.shape[0]):\n",
    "        true_ratings = true_matrix.values[i]  # Use .values to get the underlying NumPy array\n",
    "        approx_ratings = approx_matrix[i]\n",
    "        \n",
    "        # Get indices of top-k recommended items\n",
    "        top_k_indices = np.argsort(approx_ratings)[::-1][:k]\n",
    "        \n",
    "        # Check how many of the relevant items (non-zero ratings) are retrieved in the top-k\n",
    "        relevant_items = np.sum(true_ratings[top_k_indices] > 0)\n",
    "        total_relevant = np.sum(true_ratings > 0)\n",
    "        \n",
    "        # If there are no relevant items for the user, avoid division by zero\n",
    "        if total_relevant == 0:\n",
    "            recall.append(0)\n",
    "        else:\n",
    "            recall.append(relevant_items / total_relevant)\n",
    "    \n",
    "    return np.mean(recall)"
   ]
  },
  {
   "cell_type": "code",
   "execution_count": 15,
   "metadata": {},
   "outputs": [],
   "source": [
    "def average_precision_at_k(true_matrix, approx_matrix, k=10):\n",
    "    \"\"\"\n",
    "    Computes Average Precision@k for each user, then returns the Mean Average Precision@k.\n",
    "    \"\"\"\n",
    "    avg_precision = []\n",
    "    for i in range(true_matrix.shape[0]):\n",
    "        true_ratings = true_matrix.values[i]  # Use .values to get the underlying NumPy array\n",
    "        approx_ratings = approx_matrix[i]\n",
    "        \n",
    "        # Get indices of top-k recommended items\n",
    "        top_k_indices = np.argsort(approx_ratings)[::-1][:k]\n",
    "        \n",
    "        # Calculate precision at each rank in the top-k list\n",
    "        relevant_items = np.sum(true_ratings[top_k_indices] > 0)\n",
    "        precision_at_i = np.array([1 if true_ratings[idx] > 0 else 0 for idx in top_k_indices])\n",
    "        precision_at_i_cumsum = np.cumsum(precision_at_i) / (np.arange(k) + 1)\n",
    "        \n",
    "        # Average Precision for this user\n",
    "        avg_precision_user = np.sum(precision_at_i_cumsum * precision_at_i) / relevant_items if relevant_items > 0 else 0\n",
    "        avg_precision.append(avg_precision_user)\n",
    "    \n",
    "    return np.mean(avg_precision)"
   ]
  },
  {
   "cell_type": "markdown",
   "metadata": {},
   "source": [
    "# SVD"
   ]
  },
  {
   "cell_type": "markdown",
   "metadata": {},
   "source": [
    "## No Tuning"
   ]
  },
  {
   "cell_type": "code",
   "execution_count": 16,
   "metadata": {},
   "outputs": [],
   "source": [
    "from sklearn.decomposition import TruncatedSVD"
   ]
  },
  {
   "cell_type": "code",
   "execution_count": 17,
   "metadata": {},
   "outputs": [],
   "source": [
    "n_factors = 10\n",
    "svd = TruncatedSVD(n_components=n_factors, random_state=42)\n",
    "U_train = svd.fit_transform(train_matrix)\n",
    "Sigma = svd.components_\n",
    "\n",
    "train_svd = svd.fit_transform(train_matrix)\n",
    "train_approx_matrix = svd.inverse_transform(train_svd)"
   ]
  },
  {
   "cell_type": "code",
   "execution_count": 18,
   "metadata": {},
   "outputs": [],
   "source": [
    "test_svd = svd.transform(test_matrix)\n",
    "test_approx_matrix = svd.inverse_transform(test_svd)\n",
    "test_rmse = compute_rmse(test_matrix.values, test_approx_matrix)\n",
    "test_mae = compute_mae(test_matrix.values, test_approx_matrix)"
   ]
  },
  {
   "cell_type": "code",
   "execution_count": 19,
   "metadata": {},
   "outputs": [
    {
     "name": "stdout",
     "output_type": "stream",
     "text": [
      "Test RMSE: 0.3965\n",
      "Test MAE: 0.0765\n"
     ]
    }
   ],
   "source": [
    "print(f\"Test RMSE: {test_rmse:.4f}\")\n",
    "print(f\"Test MAE: {test_mae:.4f}\")"
   ]
  },
  {
   "cell_type": "code",
   "execution_count": 20,
   "metadata": {},
   "outputs": [],
   "source": [
    "k = 10\n",
    "precision_k = precision_at_k(test_matrix, test_approx_matrix, k)\n",
    "recall_k = recall_at_k(test_matrix, test_approx_matrix, k)\n",
    "map_k = average_precision_at_k(test_matrix, test_approx_matrix, k)"
   ]
  },
  {
   "cell_type": "code",
   "execution_count": 21,
   "metadata": {},
   "outputs": [
    {
     "name": "stdout",
     "output_type": "stream",
     "text": [
      "Precision@10: 0.0742\n",
      "Recall@10: 0.6394\n",
      "MAP@10: 0.4916\n"
     ]
    }
   ],
   "source": [
    "print(f\"Precision@{k}: {precision_k:.4f}\")\n",
    "print(f\"Recall@{k}: {recall_k:.4f}\")\n",
    "print(f\"MAP@{k}: {map_k:.4f}\")"
   ]
  },
  {
   "cell_type": "code",
   "execution_count": 22,
   "metadata": {},
   "outputs": [],
   "source": [
    "k = 5\n",
    "precision_k = precision_at_k(test_matrix, test_approx_matrix, k)\n",
    "recall_k = recall_at_k(test_matrix, test_approx_matrix, k)\n",
    "map_k = average_precision_at_k(test_matrix, test_approx_matrix, k)"
   ]
  },
  {
   "cell_type": "code",
   "execution_count": 23,
   "metadata": {},
   "outputs": [
    {
     "name": "stdout",
     "output_type": "stream",
     "text": [
      "Precision@5: 0.1259\n",
      "Recall@5: 0.5428\n",
      "MAP@5: 0.4864\n"
     ]
    }
   ],
   "source": [
    "print(f\"Precision@{k}: {precision_k:.4f}\")\n",
    "print(f\"Recall@{k}: {recall_k:.4f}\")\n",
    "print(f\"MAP@{k}: {map_k:.4f}\")"
   ]
  },
  {
   "cell_type": "markdown",
   "metadata": {},
   "source": [
    "## With Tuning"
   ]
  },
  {
   "cell_type": "code",
   "execution_count": 24,
   "metadata": {},
   "outputs": [],
   "source": [
    "latent_factors_range = np.arange(5, 51, 5)\n",
    "train_rmse_list = []\n",
    "val_rmse_list = []"
   ]
  },
  {
   "cell_type": "code",
   "execution_count": 25,
   "metadata": {},
   "outputs": [],
   "source": [
    "for n_factors in latent_factors_range:\n",
    "    # Inisialisasi model SVD\n",
    "    svd = TruncatedSVD(n_components=n_factors, random_state=42)\n",
    "    \n",
    "    # Latih model pada data training\n",
    "    train_svd = svd.fit_transform(train_matrix)\n",
    "    train_approx_matrix = svd.inverse_transform(train_svd)\n",
    "    \n",
    "    # Hitung RMSE untuk data training\n",
    "    train_rmse = compute_rmse(train_matrix.values, train_approx_matrix)\n",
    "    train_rmse_list.append(train_rmse)\n",
    "    \n",
    "    # Latih model pada data validation\n",
    "    val_svd = svd.transform(val_matrix)\n",
    "    val_approx_matrix = svd.inverse_transform(val_svd)\n",
    "    \n",
    "    # Hitung RMSE untuk data validation\n",
    "    val_rmse = compute_rmse(val_matrix.values, val_approx_matrix)\n",
    "    val_rmse_list.append(val_rmse)"
   ]
  },
  {
   "cell_type": "code",
   "execution_count": 26,
   "metadata": {},
   "outputs": [
    {
     "data": {
      "image/png": "[encoded data removed]",
      "text/plain": [
       "<Figure size 1000x600 with 1 Axes>"
      ]
     },
     "metadata": {},
     "output_type": "display_data"
    }
   ],
   "source": [
    "plt.figure(figsize=(10, 6))\n",
    "\n",
    "plt.plot(latent_factors_range, train_rmse_list, label='Training RMSE', color='blue', marker='o', linestyle='--')\n",
    "plt.plot(latent_factors_range, val_rmse_list, label='Validation RMSE', color='red', marker='x', linestyle='-')\n",
    "\n",
    "plt.title('Training and Validation RMSE over Latent Factors', fontsize=14)\n",
    "plt.xlabel('Number of Latent Factors', fontsize=12)\n",
    "plt.ylabel('RMSE', fontsize=12)\n",
    "\n",
    "# Menambahkan grid\n",
    "plt.grid(True)\n",
    "\n",
    "# Menambahkan legenda\n",
    "plt.legend()\n",
    "\n",
    "# Menampilkan plot\n",
    "plt.show()"
   ]
  },
  {
   "cell_type": "code",
   "execution_count": 27,
   "metadata": {},
   "outputs": [],
   "source": [
    "n_factors = 40\n",
    "svd_tune = TruncatedSVD(n_components=n_factors, random_state=42)\n",
    "U_train = svd_tune.fit_transform(train_matrix)\n",
    "Sigma = svd_tune.components_\n",
    "\n",
    "train_svd = svd_tune.fit_transform(train_matrix)\n",
    "train_approx_matrix = svd_tune.inverse_transform(train_svd)"
   ]
  },
  {
   "cell_type": "code",
   "execution_count": 28,
   "metadata": {},
   "outputs": [],
   "source": [
    "test_svd = svd_tune.transform(test_matrix)\n",
    "test_approx_matrix = svd_tune.inverse_transform(test_svd)\n",
    "test_rmse = compute_rmse(test_matrix.values, test_approx_matrix)\n",
    "test_mae = compute_mae(test_matrix.values, test_approx_matrix)"
   ]
  },
  {
   "cell_type": "code",
   "execution_count": 29,
   "metadata": {},
   "outputs": [
    {
     "name": "stdout",
     "output_type": "stream",
     "text": [
      "Test RMSE: 0.1899\n",
      "Test MAE: 0.0239\n"
     ]
    }
   ],
   "source": [
    "print(f\"Test RMSE: {test_rmse:.4f}\")\n",
    "print(f\"Test MAE: {test_mae:.4f}\")"
   ]
  },
  {
   "cell_type": "code",
   "execution_count": 30,
   "metadata": {},
   "outputs": [],
   "source": [
    "k = 10\n",
    "precision_k = precision_at_k(test_matrix, test_approx_matrix, k)\n",
    "recall_k = recall_at_k(test_matrix, test_approx_matrix, k)\n",
    "map_k = average_precision_at_k(test_matrix, test_approx_matrix, k)"
   ]
  },
  {
   "cell_type": "code",
   "execution_count": 31,
   "metadata": {},
   "outputs": [
    {
     "name": "stdout",
     "output_type": "stream",
     "text": [
      "Precision@10: 0.1084\n",
      "Recall@10: 0.9317\n",
      "MAP@10: 0.8875\n"
     ]
    }
   ],
   "source": [
    "print(f\"Precision@{k}: {precision_k:.4f}\")\n",
    "print(f\"Recall@{k}: {recall_k:.4f}\")\n",
    "print(f\"MAP@{k}: {map_k:.4f}\")"
   ]
  },
  {
   "cell_type": "code",
   "execution_count": 32,
   "metadata": {},
   "outputs": [],
   "source": [
    "k = 5\n",
    "precision_k = precision_at_k(test_matrix, test_approx_matrix, k)\n",
    "recall_k = recall_at_k(test_matrix, test_approx_matrix, k)\n",
    "map_k = average_precision_at_k(test_matrix, test_approx_matrix, k)"
   ]
  },
  {
   "cell_type": "code",
   "execution_count": 33,
   "metadata": {},
   "outputs": [
    {
     "name": "stdout",
     "output_type": "stream",
     "text": [
      "Precision@5: 0.2058\n",
      "Recall@5: 0.8838\n",
      "MAP@5: 0.8854\n"
     ]
    }
   ],
   "source": [
    "print(f\"Precision@{k}: {precision_k:.4f}\")\n",
    "print(f\"Recall@{k}: {recall_k:.4f}\")\n",
    "print(f\"MAP@{k}: {map_k:.4f}\")"
   ]
  },
  {
   "cell_type": "markdown",
   "metadata": {},
   "source": [
    "## Recommendation for user SVD"
   ]
  },
  {
   "cell_type": "code",
   "execution_count": 34,
   "metadata": {},
   "outputs": [],
   "source": [
    "def recommend_places_for_user(user_id, train_matrix, svd_tune, k=10):\n",
    "    \"\"\"\n",
    "    Memberikan rekomendasi tempat wisata untuk pengguna berdasarkan model SVD.\n",
    "    \n",
    "    Parameters:\n",
    "    - user_id: ID pengguna yang ingin diberi rekomendasi\n",
    "    - train_matrix: Matriks pengguna-item (train data)\n",
    "    - svd: Model SVD yang sudah dilatih\n",
    "    - k: Jumlah rekomendasi yang ingin diberikan\n",
    "    \n",
    "    Returns:\n",
    "    - rekomendasi tempat wisata berdasarkan estimasi rating tertinggi\n",
    "    \"\"\"\n",
    "    # Ambil indeks pengguna\n",
    "    user_index = train_matrix.index.get_loc(user_id)\n",
    "    \n",
    "    # Prediksi rating untuk semua tempat wisata\n",
    "    user_ratings = svd.transform(train_matrix)\n",
    "    predicted_ratings = user_ratings[user_index, :]  # Rating yang diprediksi untuk pengguna ini\n",
    "    \n",
    "    # Urutkan tempat wisata berdasarkan prediksi rating tertinggi\n",
    "    top_k_indices = np.argsort(predicted_ratings)[::-1][:k]  # Ambil k rating tertinggi\n",
    "    \n",
    "    # Ambil nama tempat wisata (kolom tempat wisata)\n",
    "    recommended_places = train_matrix.columns[top_k_indices]\n",
    "    \n",
    "    # Filter tempat yang sudah ada rating-nya dari pengguna\n",
    "    rated_places = train_matrix.loc[user_id][train_matrix.loc[user_id] > 0].index\n",
    "    recommended_places = [place for place in recommended_places if place not in rated_places]\n",
    "    \n",
    "    return recommended_places[:k]"
   ]
  },
  {
   "cell_type": "code",
   "execution_count": 35,
   "metadata": {},
   "outputs": [],
   "source": [
    "user_id = 1.000030e+20\n",
    "recommended_places = recommend_places_for_user(user_id, train_matrix, svd_tune, k=10)"
   ]
  },
  {
   "cell_type": "code",
   "execution_count": 36,
   "metadata": {},
   "outputs": [
    {
     "name": "stdout",
     "output_type": "stream",
     "text": [
      "Rekomendasi tempat wisata untuk user 1.00003e+20:\n",
      "1. Batu Kursi Raja Siallagan ( Stone Chair of King Siallagan )\n",
      "2. Bukit Burung\n",
      "3. Aek Rangat Pangururan\n",
      "4. Air Terjun Siboruon\n",
      "5. Batu Gantung\n",
      "6. Air Terjun Janji\n",
      "7. BUKIT GIBEON (YAPIM TARUNA)\n",
      "8. Air Terjun Efrata\n",
      "9. Long Beach\n",
      "10. Kota Balige\n"
     ]
    }
   ],
   "source": [
    "print(f\"Rekomendasi tempat wisata untuk user {user_id}:\")\n",
    "for idx, place in enumerate(recommended_places, 1):\n",
    "    print(f\"{idx}. {place}\")"
   ]
  },
  {
   "cell_type": "code",
   "execution_count": 37,
   "metadata": {},
   "outputs": [],
   "source": [
    "def recommend_places_for_all_users(train_matrix, svd, k=10):\n",
    "    \"\"\"\n",
    "    Memberikan rekomendasi tempat wisata berdasarkan rating yang diprediksi untuk semua pengguna.\n",
    "    \n",
    "    Parameters:\n",
    "    - train_matrix: Matriks pengguna-item (train data)\n",
    "    - svd: Model SVD yang sudah dilatih\n",
    "    - k: Jumlah rekomendasi yang ingin diberikan\n",
    "    \n",
    "    Returns:\n",
    "    - rekomendasi tempat wisata berdasarkan rating tertinggi untuk semua pengguna\n",
    "    \"\"\"\n",
    "    # Prediksi rating untuk seluruh pengguna\n",
    "    all_ratings = svd.transform(train_matrix)\n",
    "    \n",
    "    # Hitung rata-rata prediksi rating untuk setiap tempat wisata (kolom)\n",
    "    avg_ratings = np.mean(all_ratings, axis=0)\n",
    "    \n",
    "    # Urutkan tempat wisata berdasarkan prediksi rating tertinggi\n",
    "    top_k_indices = np.argsort(avg_ratings)[::-1][:k]  # Ambil k rating tertinggi\n",
    "    \n",
    "    # Ambil nama tempat wisata (kolom tempat wisata)\n",
    "    recommended_places = train_matrix.columns[top_k_indices]\n",
    "    \n",
    "    return recommended_places[:k]"
   ]
  },
  {
   "cell_type": "code",
   "execution_count": 38,
   "metadata": {},
   "outputs": [],
   "source": [
    "recommended_places_all = recommend_places_for_all_users(train_matrix, svd_tune, k=10)"
   ]
  },
  {
   "cell_type": "code",
   "execution_count": 39,
   "metadata": {},
   "outputs": [
    {
     "name": "stdout",
     "output_type": "stream",
     "text": [
      "Rekomendasi tempat wisata berdasarkan rating semua pengguna:\n",
      "1. Aek Rangat Pangururan\n",
      "2. Air Terjun Siboruon\n",
      "3. Batu Kursi Raja Siallagan ( Stone Chair of King Siallagan )\n",
      "4. Bukit Holbung\n",
      "5. Bukit Indah Simarjarunjung\n",
      "6. Bukit Pahoda\n",
      "7. BUKIT GIBEON (YAPIM TARUNA)\n",
      "8. Batu Lihi Star\n",
      "9. Caldera toba nomadic escape (glamour camping)\n",
      "10. Bukit Doa\n"
     ]
    }
   ],
   "source": [
    "print(\"Rekomendasi tempat wisata berdasarkan rating semua pengguna:\")\n",
    "for idx, place in enumerate(recommended_places_all, 1):\n",
    "    print(f\"{idx}. {place}\")"
   ]
  }
 ],
 "metadata": {
  "kernelspec": {
   "display_name": "base",
   "language": "python",
   "name": "python3"
  },
  "language_info": {
   "codemirror_mode": {
    "name": "ipython",
    "version": 3
   },
   "file_extension": ".py",
   "mimetype": "text/x-python",
   "name": "python",
   "nbconvert_exporter": "python",
   "pygments_lexer": "ipython3",
   "version": "3.11.4"
  }
 },
 "nbformat": 4,
 "nbformat_minor": 2
}
