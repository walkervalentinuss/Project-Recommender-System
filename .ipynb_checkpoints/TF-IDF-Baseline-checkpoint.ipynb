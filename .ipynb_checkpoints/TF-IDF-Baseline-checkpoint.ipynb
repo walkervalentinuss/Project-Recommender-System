{
 "cells": [
  {
   "cell_type": "code",
   "execution_count": 1,
   "id": "01b2b73a",
   "metadata": {},
   "outputs": [],
   "source": [
    "import pandas as pd\n",
    "import numpy as np\n",
    "from sklearn.model_selection import train_test_split"
   ]
  },
  {
   "cell_type": "code",
   "execution_count": 2,
   "id": "1b3fd9a3",
   "metadata": {},
   "outputs": [],
   "source": [
    "data = pd.read_csv(\"data\\Tempat-Wisata-Toba-Preprocessing.csv\")"
   ]
  },
  {
   "cell_type": "code",
   "execution_count": 5,
   "id": "dfd3104f",
   "metadata": {},
   "outputs": [
    {
     "data": {
      "text/plain": [
       "(43226, 9)"
      ]
     },
     "execution_count": 5,
     "metadata": {},
     "output_type": "execute_result"
    }
   ],
   "source": [
    "data.shape"
   ]
  },
  {
   "cell_type": "code",
   "execution_count": 7,
   "id": "a3a39909",
   "metadata": {},
   "outputs": [
    {
     "data": {
      "text/plain": [
       "Index(['Unnamed: 0.1', 'Unnamed: 0', 'address', 'PlaceID',\n",
       "       'Nama_tempat_wisata', 'Category', 'ReviewerId', 'Rating', 'Reviews'],\n",
       "      dtype='object')"
      ]
     },
     "execution_count": 7,
     "metadata": {},
     "output_type": "execute_result"
    }
   ],
   "source": [
    "data.columns"
   ]
  },
  {
   "cell_type": "code",
   "execution_count": 10,
   "id": "e4c97645",
   "metadata": {},
   "outputs": [
    {
     "data": {
      "text/html": [
       "<div>\n",
       "<style scoped>\n",
       "    .dataframe tbody tr th:only-of-type {\n",
       "        vertical-align: middle;\n",
       "    }\n",
       "\n",
       "    .dataframe tbody tr th {\n",
       "        vertical-align: top;\n",
       "    }\n",
       "\n",
       "    .dataframe thead th {\n",
       "        text-align: right;\n",
       "    }\n",
       "</style>\n",
       "<table border=\"1\" class=\"dataframe\">\n",
       "  <thead>\n",
       "    <tr style=\"text-align: right;\">\n",
       "      <th></th>\n",
       "      <th>Unnamed: 0.1</th>\n",
       "      <th>Unnamed: 0</th>\n",
       "      <th>address</th>\n",
       "      <th>item_id</th>\n",
       "      <th>Nama_tempat_wisata</th>\n",
       "      <th>Category</th>\n",
       "      <th>user_id</th>\n",
       "      <th>rating</th>\n",
       "      <th>Reviews</th>\n",
       "    </tr>\n",
       "  </thead>\n",
       "  <tbody>\n",
       "    <tr>\n",
       "      <th>1</th>\n",
       "      <td>1</td>\n",
       "      <td>1</td>\n",
       "      <td>Jl. Sibola Hotang, Sibola Hotangsas, Kec. Bali...</td>\n",
       "      <td>0</td>\n",
       "      <td>PASIR PUTIH LUMBAN BULBUL</td>\n",
       "      <td>Wisata Bahari</td>\n",
       "      <td>1.11909e+20</td>\n",
       "      <td>5.0</td>\n",
       "      <td>bagus</td>\n",
       "    </tr>\n",
       "    <tr>\n",
       "      <th>3</th>\n",
       "      <td>3</td>\n",
       "      <td>3</td>\n",
       "      <td>Jl. Sibola Hotang, Sibola Hotangsas, Kec. Bali...</td>\n",
       "      <td>0</td>\n",
       "      <td>PASIR PUTIH LUMBAN BULBUL</td>\n",
       "      <td>Wisata Bahari</td>\n",
       "      <td>1.13072e+20</td>\n",
       "      <td>5.0</td>\n",
       "      <td>sangat menyenagkan</td>\n",
       "    </tr>\n",
       "    <tr>\n",
       "      <th>4</th>\n",
       "      <td>4</td>\n",
       "      <td>4</td>\n",
       "      <td>Jl. Sibola Hotang, Sibola Hotangsas, Kec. Bali...</td>\n",
       "      <td>0</td>\n",
       "      <td>PASIR PUTIH LUMBAN BULBUL</td>\n",
       "      <td>Wisata Bahari</td>\n",
       "      <td>1.06173e+20</td>\n",
       "      <td>5.0</td>\n",
       "      <td>bebas foto dimana aja cuma 2k</td>\n",
       "    </tr>\n",
       "    <tr>\n",
       "      <th>6</th>\n",
       "      <td>6</td>\n",
       "      <td>6</td>\n",
       "      <td>Jl. Sibola Hotang, Sibola Hotangsas, Kec. Bali...</td>\n",
       "      <td>0</td>\n",
       "      <td>PASIR PUTIH LUMBAN BULBUL</td>\n",
       "      <td>Wisata Bahari</td>\n",
       "      <td>1.14239e+20</td>\n",
       "      <td>5.0</td>\n",
       "      <td>amazing pengen kesini lagi</td>\n",
       "    </tr>\n",
       "    <tr>\n",
       "      <th>8</th>\n",
       "      <td>8</td>\n",
       "      <td>8</td>\n",
       "      <td>Jl. Sibola Hotang, Sibola Hotangsas, Kec. Bali...</td>\n",
       "      <td>0</td>\n",
       "      <td>PASIR PUTIH LUMBAN BULBUL</td>\n",
       "      <td>Wisata Bahari</td>\n",
       "      <td>1.04743e+20</td>\n",
       "      <td>3.0</td>\n",
       "      <td>jalan menuju lokasi perlu diperhatikan oleh pe...</td>\n",
       "    </tr>\n",
       "  </tbody>\n",
       "</table>\n",
       "</div>"
      ],
      "text/plain": [
       "   Unnamed: 0.1  Unnamed: 0  \\\n",
       "1             1           1   \n",
       "3             3           3   \n",
       "4             4           4   \n",
       "6             6           6   \n",
       "8             8           8   \n",
       "\n",
       "                                             address item_id  \\\n",
       "1  Jl. Sibola Hotang, Sibola Hotangsas, Kec. Bali...       0   \n",
       "3  Jl. Sibola Hotang, Sibola Hotangsas, Kec. Bali...       0   \n",
       "4  Jl. Sibola Hotang, Sibola Hotangsas, Kec. Bali...       0   \n",
       "6  Jl. Sibola Hotang, Sibola Hotangsas, Kec. Bali...       0   \n",
       "8  Jl. Sibola Hotang, Sibola Hotangsas, Kec. Bali...       0   \n",
       "\n",
       "          Nama_tempat_wisata       Category      user_id  rating  \\\n",
       "1  PASIR PUTIH LUMBAN BULBUL  Wisata Bahari  1.11909e+20     5.0   \n",
       "3  PASIR PUTIH LUMBAN BULBUL  Wisata Bahari  1.13072e+20     5.0   \n",
       "4  PASIR PUTIH LUMBAN BULBUL  Wisata Bahari  1.06173e+20     5.0   \n",
       "6  PASIR PUTIH LUMBAN BULBUL  Wisata Bahari  1.14239e+20     5.0   \n",
       "8  PASIR PUTIH LUMBAN BULBUL  Wisata Bahari  1.04743e+20     3.0   \n",
       "\n",
       "                                             Reviews  \n",
       "1                                              bagus  \n",
       "3                                 sangat menyenagkan  \n",
       "4                      bebas foto dimana aja cuma 2k  \n",
       "6                         amazing pengen kesini lagi  \n",
       "8  jalan menuju lokasi perlu diperhatikan oleh pe...  "
      ]
     },
     "execution_count": 10,
     "metadata": {},
     "output_type": "execute_result"
    }
   ],
   "source": [
    "data = data.rename(columns={'ReviewerId': 'user_id', 'PlaceID': 'item_id', 'Rating': 'rating'})\n",
    "data['user_id'] = data['user_id'].astype(str)\n",
    "data['item_id'] = data['item_id'].astype(str)\n",
    "data['rating'] = data['rating'].astype(float)\n",
    "data.dropna(inplace=True)\n",
    "data.head(5)"
   ]
  },
  {
   "cell_type": "code",
   "execution_count": 11,
   "id": "97f55b04",
   "metadata": {},
   "outputs": [
    {
     "data": {
      "text/plain": [
       "(22166, 9)"
      ]
     },
     "execution_count": 11,
     "metadata": {},
     "output_type": "execute_result"
    }
   ],
   "source": [
    "data.shape"
   ]
  },
  {
   "cell_type": "code",
   "execution_count": 12,
   "id": "8c4bccd3",
   "metadata": {},
   "outputs": [
    {
     "name": "stdout",
     "output_type": "stream",
     "text": [
      "Train data size: (15638, 9)\n",
      "Validation data size: (3203, 9)\n",
      "Test data size: (3325, 9)\n"
     ]
    }
   ],
   "source": [
    "# Step 1: Split into 85% training+validation and 15% test\n",
    "train_val_data, test_data = train_test_split(data, test_size=0.15, random_state=42)\n",
    "# Step 2: Define validation size as 17% of train+validation, rounded up\n",
    "val_size = int(len(train_val_data) * 0.17) + 1\n",
    "# Step 3: Split 85% data into training (about 70% of original) and validation (about 15% of original)\n",
    "train_data, val_data = train_test_split(train_val_data, test_size=val_size, random_state=42)\n",
    "# Check sizes\n",
    "print(f\"Train data size: {train_data.shape}\")\n",
    "print(f\"Validation data size: {val_data.shape}\")\n",
    "print(f\"Test data size: {test_data.shape}\")"
   ]
  },
  {
   "cell_type": "code",
   "execution_count": null,
   "id": "1905a319",
   "metadata": {},
   "outputs": [],
   "source": []
  }
 ],
 "metadata": {
  "kernelspec": {
   "display_name": "Python 3 (ipykernel)",
   "language": "python",
   "name": "python3"
  },
  "language_info": {
   "codemirror_mode": {
    "name": "ipython",
    "version": 3
   },
   "file_extension": ".py",
   "mimetype": "text/x-python",
   "name": "python",
   "nbconvert_exporter": "python",
   "pygments_lexer": "ipython3",
   "version": "3.11.4"
  }
 },
 "nbformat": 4,
 "nbformat_minor": 5
}
