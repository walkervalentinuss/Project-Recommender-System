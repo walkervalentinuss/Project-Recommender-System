{
 "cells": [
  {
   "cell_type": "markdown",
   "metadata": {},
   "source": [
    "# Section 1 | Import Libraries and Load Data"
   ]
  },
  {
   "cell_type": "code",
   "execution_count": 1,
   "metadata": {},
   "outputs": [],
   "source": [
    "import pandas as pd\n",
    "import numpy as np\n",
    "import seaborn as sns\n",
    "import matplotlib.pyplot as plt\n",
    "from sklearn.model_selection import train_test_split\n",
    "from sklearn.metrics import mean_squared_error\n",
    "from sklearn.decomposition import NMF\n",
    "from scipy.sparse import csr_matrix"
   ]
  },
  {
   "cell_type": "code",
   "execution_count": 2,
   "metadata": {},
   "outputs": [],
   "source": [
    "data = pd.read_csv(\"data/Tempat-Wisata-Toba-Preprocessing.csv\")"
   ]
  },
  {
   "cell_type": "code",
   "execution_count": 3,
   "metadata": {},
   "outputs": [
    {
     "data": {
      "text/plain": [
       "(43226, 9)"
      ]
     },
     "execution_count": 3,
     "metadata": {},
     "output_type": "execute_result"
    }
   ],
   "source": [
    "data.shape"
   ]
  },
  {
   "cell_type": "code",
   "execution_count": 4,
   "metadata": {},
   "outputs": [
    {
     "data": {
      "text/plain": [
       "Index(['Unnamed: 0.1', 'Unnamed: 0', 'address', 'PlaceID',\n",
       "       'Nama_tempat_wisata', 'Category', 'ReviewerId', 'Rating', 'Reviews'],\n",
       "      dtype='object')"
      ]
     },
     "execution_count": 4,
     "metadata": {},
     "output_type": "execute_result"
    }
   ],
   "source": [
    "data.columns"
   ]
  },
  {
   "cell_type": "code",
   "execution_count": 5,
   "metadata": {},
   "outputs": [
    {
     "data": {
      "text/html": [
       "<div>\n",
       "<style scoped>\n",
       "    .dataframe tbody tr th:only-of-type {\n",
       "        vertical-align: middle;\n",
       "    }\n",
       "\n",
       "    .dataframe tbody tr th {\n",
       "        vertical-align: top;\n",
       "    }\n",
       "\n",
       "    .dataframe thead th {\n",
       "        text-align: right;\n",
       "    }\n",
       "</style>\n",
       "<table border=\"1\" class=\"dataframe\">\n",
       "  <thead>\n",
       "    <tr style=\"text-align: right;\">\n",
       "      <th></th>\n",
       "      <th>Unnamed: 0.1</th>\n",
       "      <th>Unnamed: 0</th>\n",
       "      <th>address</th>\n",
       "      <th>item_id</th>\n",
       "      <th>Nama_tempat_wisata</th>\n",
       "      <th>Category</th>\n",
       "      <th>user_id</th>\n",
       "      <th>rating</th>\n",
       "      <th>Reviews</th>\n",
       "    </tr>\n",
       "  </thead>\n",
       "  <tbody>\n",
       "    <tr>\n",
       "      <th>1</th>\n",
       "      <td>1</td>\n",
       "      <td>1</td>\n",
       "      <td>Jl. Sibola Hotang, Sibola Hotangsas, Kec. Bali...</td>\n",
       "      <td>0</td>\n",
       "      <td>PASIR PUTIH LUMBAN BULBUL</td>\n",
       "      <td>Wisata Bahari</td>\n",
       "      <td>1.119090e+20</td>\n",
       "      <td>5.0</td>\n",
       "      <td>bagus</td>\n",
       "    </tr>\n",
       "    <tr>\n",
       "      <th>3</th>\n",
       "      <td>3</td>\n",
       "      <td>3</td>\n",
       "      <td>Jl. Sibola Hotang, Sibola Hotangsas, Kec. Bali...</td>\n",
       "      <td>0</td>\n",
       "      <td>PASIR PUTIH LUMBAN BULBUL</td>\n",
       "      <td>Wisata Bahari</td>\n",
       "      <td>1.130720e+20</td>\n",
       "      <td>5.0</td>\n",
       "      <td>sangat menyenagkan</td>\n",
       "    </tr>\n",
       "    <tr>\n",
       "      <th>4</th>\n",
       "      <td>4</td>\n",
       "      <td>4</td>\n",
       "      <td>Jl. Sibola Hotang, Sibola Hotangsas, Kec. Bali...</td>\n",
       "      <td>0</td>\n",
       "      <td>PASIR PUTIH LUMBAN BULBUL</td>\n",
       "      <td>Wisata Bahari</td>\n",
       "      <td>1.061730e+20</td>\n",
       "      <td>5.0</td>\n",
       "      <td>bebas foto dimana aja cuma 2k</td>\n",
       "    </tr>\n",
       "    <tr>\n",
       "      <th>6</th>\n",
       "      <td>6</td>\n",
       "      <td>6</td>\n",
       "      <td>Jl. Sibola Hotang, Sibola Hotangsas, Kec. Bali...</td>\n",
       "      <td>0</td>\n",
       "      <td>PASIR PUTIH LUMBAN BULBUL</td>\n",
       "      <td>Wisata Bahari</td>\n",
       "      <td>1.142390e+20</td>\n",
       "      <td>5.0</td>\n",
       "      <td>amazing pengen kesini lagi</td>\n",
       "    </tr>\n",
       "    <tr>\n",
       "      <th>8</th>\n",
       "      <td>8</td>\n",
       "      <td>8</td>\n",
       "      <td>Jl. Sibola Hotang, Sibola Hotangsas, Kec. Bali...</td>\n",
       "      <td>0</td>\n",
       "      <td>PASIR PUTIH LUMBAN BULBUL</td>\n",
       "      <td>Wisata Bahari</td>\n",
       "      <td>1.047430e+20</td>\n",
       "      <td>3.0</td>\n",
       "      <td>jalan menuju lokasi perlu diperhatikan oleh pe...</td>\n",
       "    </tr>\n",
       "  </tbody>\n",
       "</table>\n",
       "</div>"
      ],
      "text/plain": [
       "   Unnamed: 0.1  Unnamed: 0  \\\n",
       "1             1           1   \n",
       "3             3           3   \n",
       "4             4           4   \n",
       "6             6           6   \n",
       "8             8           8   \n",
       "\n",
       "                                             address  item_id  \\\n",
       "1  Jl. Sibola Hotang, Sibola Hotangsas, Kec. Bali...        0   \n",
       "3  Jl. Sibola Hotang, Sibola Hotangsas, Kec. Bali...        0   \n",
       "4  Jl. Sibola Hotang, Sibola Hotangsas, Kec. Bali...        0   \n",
       "6  Jl. Sibola Hotang, Sibola Hotangsas, Kec. Bali...        0   \n",
       "8  Jl. Sibola Hotang, Sibola Hotangsas, Kec. Bali...        0   \n",
       "\n",
       "          Nama_tempat_wisata       Category       user_id  rating  \\\n",
       "1  PASIR PUTIH LUMBAN BULBUL  Wisata Bahari  1.119090e+20     5.0   \n",
       "3  PASIR PUTIH LUMBAN BULBUL  Wisata Bahari  1.130720e+20     5.0   \n",
       "4  PASIR PUTIH LUMBAN BULBUL  Wisata Bahari  1.061730e+20     5.0   \n",
       "6  PASIR PUTIH LUMBAN BULBUL  Wisata Bahari  1.142390e+20     5.0   \n",
       "8  PASIR PUTIH LUMBAN BULBUL  Wisata Bahari  1.047430e+20     3.0   \n",
       "\n",
       "                                             Reviews  \n",
       "1                                              bagus  \n",
       "3                                 sangat menyenagkan  \n",
       "4                      bebas foto dimana aja cuma 2k  \n",
       "6                         amazing pengen kesini lagi  \n",
       "8  jalan menuju lokasi perlu diperhatikan oleh pe...  "
      ]
     },
     "execution_count": 5,
     "metadata": {},
     "output_type": "execute_result"
    }
   ],
   "source": [
    "data = data.rename(columns={'ReviewerId': 'user_id', 'PlaceID': 'item_id', 'Rating': 'rating'})\n",
    "data['rating'] = data['rating'].astype(float)\n",
    "data.dropna(inplace=True)\n",
    "data.head(5)"
   ]
  },
  {
   "cell_type": "code",
   "execution_count": 6,
   "metadata": {},
   "outputs": [
    {
     "data": {
      "text/html": [
       "<div>\n",
       "<style scoped>\n",
       "    .dataframe tbody tr th:only-of-type {\n",
       "        vertical-align: middle;\n",
       "    }\n",
       "\n",
       "    .dataframe tbody tr th {\n",
       "        vertical-align: top;\n",
       "    }\n",
       "\n",
       "    .dataframe thead th {\n",
       "        text-align: right;\n",
       "    }\n",
       "</style>\n",
       "<table border=\"1\" class=\"dataframe\">\n",
       "  <thead>\n",
       "    <tr style=\"text-align: right;\">\n",
       "      <th></th>\n",
       "      <th>item_id</th>\n",
       "      <th>Nama_tempat_wisata</th>\n",
       "      <th>user_id</th>\n",
       "      <th>rating</th>\n",
       "    </tr>\n",
       "  </thead>\n",
       "  <tbody>\n",
       "    <tr>\n",
       "      <th>1</th>\n",
       "      <td>0</td>\n",
       "      <td>PASIR PUTIH LUMBAN BULBUL</td>\n",
       "      <td>1.119090e+20</td>\n",
       "      <td>5.0</td>\n",
       "    </tr>\n",
       "    <tr>\n",
       "      <th>3</th>\n",
       "      <td>0</td>\n",
       "      <td>PASIR PUTIH LUMBAN BULBUL</td>\n",
       "      <td>1.130720e+20</td>\n",
       "      <td>5.0</td>\n",
       "    </tr>\n",
       "    <tr>\n",
       "      <th>4</th>\n",
       "      <td>0</td>\n",
       "      <td>PASIR PUTIH LUMBAN BULBUL</td>\n",
       "      <td>1.061730e+20</td>\n",
       "      <td>5.0</td>\n",
       "    </tr>\n",
       "    <tr>\n",
       "      <th>6</th>\n",
       "      <td>0</td>\n",
       "      <td>PASIR PUTIH LUMBAN BULBUL</td>\n",
       "      <td>1.142390e+20</td>\n",
       "      <td>5.0</td>\n",
       "    </tr>\n",
       "    <tr>\n",
       "      <th>8</th>\n",
       "      <td>0</td>\n",
       "      <td>PASIR PUTIH LUMBAN BULBUL</td>\n",
       "      <td>1.047430e+20</td>\n",
       "      <td>3.0</td>\n",
       "    </tr>\n",
       "  </tbody>\n",
       "</table>\n",
       "</div>"
      ],
      "text/plain": [
       "   item_id         Nama_tempat_wisata       user_id  rating\n",
       "1        0  PASIR PUTIH LUMBAN BULBUL  1.119090e+20     5.0\n",
       "3        0  PASIR PUTIH LUMBAN BULBUL  1.130720e+20     5.0\n",
       "4        0  PASIR PUTIH LUMBAN BULBUL  1.061730e+20     5.0\n",
       "6        0  PASIR PUTIH LUMBAN BULBUL  1.142390e+20     5.0\n",
       "8        0  PASIR PUTIH LUMBAN BULBUL  1.047430e+20     3.0"
      ]
     },
     "execution_count": 6,
     "metadata": {},
     "output_type": "execute_result"
    }
   ],
   "source": [
    "col_to_drop = ['Unnamed: 0.1', 'Unnamed: 0', 'address', 'Category', 'Reviews']\n",
    "data = data.drop(columns=col_to_drop)\n",
    "data.head()"
   ]
  },
  {
   "cell_type": "code",
   "execution_count": 7,
   "metadata": {},
   "outputs": [
    {
     "data": {
      "text/plain": [
       "(22166, 4)"
      ]
     },
     "execution_count": 7,
     "metadata": {},
     "output_type": "execute_result"
    }
   ],
   "source": [
    "data.shape"
   ]
  },
  {
   "cell_type": "markdown",
   "metadata": {},
   "source": [
    "# Section 2 | Data Splitting"
   ]
  },
  {
   "cell_type": "code",
   "execution_count": 8,
   "metadata": {},
   "outputs": [
    {
     "name": "stdout",
     "output_type": "stream",
     "text": [
      "Train data size: (15638, 4)\n",
      "Validation data size: (3203, 4)\n",
      "Test data size: (3325, 4)\n"
     ]
    }
   ],
   "source": [
    "# Step 1: Split into 85% training+validation and 15% test\n",
    "train_val_data, test_data = train_test_split(data, test_size=0.15, random_state=42)\n",
    "# Step 2: Define validation size as 17% of train+validation, rounded up\n",
    "val_size = int(len(train_val_data) * 0.17) + 1\n",
    "# Step 3: Split 85% data into training (about 70% of original) and validation (about 15% of original)\n",
    "train_data, val_data = train_test_split(train_val_data, test_size=val_size, random_state=42)\n",
    "# Check sizes\n",
    "print(f\"Train data size: {train_data.shape}\")\n",
    "print(f\"Validation data size: {val_data.shape}\")\n",
    "print(f\"Test data size: {test_data.shape}\")"
   ]
  },
  {
   "cell_type": "markdown",
   "metadata": {},
   "source": [
    "# Section 3 | Create User-Item Matrix"
   ]
  },
  {
   "cell_type": "code",
   "execution_count": 9,
   "metadata": {},
   "outputs": [],
   "source": [
    "def create_user_item_matrix(data, user_col='user_id', item_col='Nama_tempat_wisata', rating_col='rating'):\n",
    "    data = data.groupby([user_col, item_col])[rating_col].mean().reset_index()\n",
    "    return data.pivot(index=user_col, columns=item_col, values=rating_col).fillna(0)\n",
    "\n",
    "# Apply the function to create matrices for each split\n",
    "train_matrix = create_user_item_matrix(train_data)\n",
    "val_matrix = create_user_item_matrix(val_data).reindex(columns=train_matrix.columns, fill_value=0)\n",
    "test_matrix = create_user_item_matrix(test_data).reindex(columns=train_matrix.columns, fill_value=0)"
   ]
  },
  {
   "cell_type": "code",
   "execution_count": 10,
   "metadata": {},
   "outputs": [
    {
     "data": {
      "text/html": [
       "<div>\n",
       "<style scoped>\n",
       "    .dataframe tbody tr th:only-of-type {\n",
       "        vertical-align: middle;\n",
       "    }\n",
       "\n",
       "    .dataframe tbody tr th {\n",
       "        vertical-align: top;\n",
       "    }\n",
       "\n",
       "    .dataframe thead th {\n",
       "        text-align: right;\n",
       "    }\n",
       "</style>\n",
       "<table border=\"1\" class=\"dataframe\">\n",
       "  <thead>\n",
       "    <tr style=\"text-align: right;\">\n",
       "      <th>Nama_tempat_wisata</th>\n",
       "      <th>Aek Rangat Pangururan</th>\n",
       "      <th>Aek Sipangolu Bakkara</th>\n",
       "      <th>Air Terjun Efrata</th>\n",
       "      <th>Air Terjun Janji</th>\n",
       "      <th>Air Terjun Pandumaan</th>\n",
       "      <th>Air Terjun Sampuran</th>\n",
       "      <th>Air Terjun Siboruon</th>\n",
       "      <th>Air Terjun Situmurun</th>\n",
       "      <th>Air Terjun Taman Eden 100</th>\n",
       "      <th>Air Terjun Tombak Pangaribuan</th>\n",
       "      <th>...</th>\n",
       "      <th>Tao Silalahi Hotel</th>\n",
       "      <th>Tarabunga</th>\n",
       "      <th>Tempat Pengasingan Soekarno</th>\n",
       "      <th>The Kaldera</th>\n",
       "      <th>Tombak Sulusulu</th>\n",
       "      <th>Tugu D.I PANJAITAN</th>\n",
       "      <th>Tugu Toga Aritonang</th>\n",
       "      <th>WF Coffee&amp;Resto</th>\n",
       "      <th>Wisata Bukit Gibeon</th>\n",
       "      <th>Wisata Rumah Pohon</th>\n",
       "    </tr>\n",
       "    <tr>\n",
       "      <th>user_id</th>\n",
       "      <th></th>\n",
       "      <th></th>\n",
       "      <th></th>\n",
       "      <th></th>\n",
       "      <th></th>\n",
       "      <th></th>\n",
       "      <th></th>\n",
       "      <th></th>\n",
       "      <th></th>\n",
       "      <th></th>\n",
       "      <th></th>\n",
       "      <th></th>\n",
       "      <th></th>\n",
       "      <th></th>\n",
       "      <th></th>\n",
       "      <th></th>\n",
       "      <th></th>\n",
       "      <th></th>\n",
       "      <th></th>\n",
       "      <th></th>\n",
       "      <th></th>\n",
       "    </tr>\n",
       "  </thead>\n",
       "  <tbody>\n",
       "    <tr>\n",
       "      <th>1.000030e+20</th>\n",
       "      <td>0.0</td>\n",
       "      <td>0.0</td>\n",
       "      <td>0.0</td>\n",
       "      <td>0.0</td>\n",
       "      <td>0.0</td>\n",
       "      <td>0.0</td>\n",
       "      <td>0.0</td>\n",
       "      <td>0.0</td>\n",
       "      <td>0.0</td>\n",
       "      <td>0.0</td>\n",
       "      <td>...</td>\n",
       "      <td>0.0</td>\n",
       "      <td>0.0</td>\n",
       "      <td>0.0</td>\n",
       "      <td>0.0</td>\n",
       "      <td>0.0</td>\n",
       "      <td>0.0</td>\n",
       "      <td>0.0</td>\n",
       "      <td>0.0</td>\n",
       "      <td>0.0</td>\n",
       "      <td>0.0</td>\n",
       "    </tr>\n",
       "    <tr>\n",
       "      <th>1.000040e+20</th>\n",
       "      <td>0.0</td>\n",
       "      <td>0.0</td>\n",
       "      <td>0.0</td>\n",
       "      <td>0.0</td>\n",
       "      <td>0.0</td>\n",
       "      <td>0.0</td>\n",
       "      <td>0.0</td>\n",
       "      <td>0.0</td>\n",
       "      <td>0.0</td>\n",
       "      <td>0.0</td>\n",
       "      <td>...</td>\n",
       "      <td>0.0</td>\n",
       "      <td>0.0</td>\n",
       "      <td>0.0</td>\n",
       "      <td>0.0</td>\n",
       "      <td>0.0</td>\n",
       "      <td>0.0</td>\n",
       "      <td>0.0</td>\n",
       "      <td>0.0</td>\n",
       "      <td>0.0</td>\n",
       "      <td>0.0</td>\n",
       "    </tr>\n",
       "    <tr>\n",
       "      <th>1.000090e+20</th>\n",
       "      <td>0.0</td>\n",
       "      <td>0.0</td>\n",
       "      <td>0.0</td>\n",
       "      <td>0.0</td>\n",
       "      <td>0.0</td>\n",
       "      <td>0.0</td>\n",
       "      <td>0.0</td>\n",
       "      <td>0.0</td>\n",
       "      <td>0.0</td>\n",
       "      <td>0.0</td>\n",
       "      <td>...</td>\n",
       "      <td>0.0</td>\n",
       "      <td>0.0</td>\n",
       "      <td>0.0</td>\n",
       "      <td>0.0</td>\n",
       "      <td>0.0</td>\n",
       "      <td>0.0</td>\n",
       "      <td>0.0</td>\n",
       "      <td>0.0</td>\n",
       "      <td>0.0</td>\n",
       "      <td>0.0</td>\n",
       "    </tr>\n",
       "    <tr>\n",
       "      <th>1.000100e+20</th>\n",
       "      <td>0.0</td>\n",
       "      <td>0.0</td>\n",
       "      <td>0.0</td>\n",
       "      <td>0.0</td>\n",
       "      <td>0.0</td>\n",
       "      <td>0.0</td>\n",
       "      <td>0.0</td>\n",
       "      <td>0.0</td>\n",
       "      <td>0.0</td>\n",
       "      <td>0.0</td>\n",
       "      <td>...</td>\n",
       "      <td>0.0</td>\n",
       "      <td>0.0</td>\n",
       "      <td>0.0</td>\n",
       "      <td>0.0</td>\n",
       "      <td>0.0</td>\n",
       "      <td>0.0</td>\n",
       "      <td>0.0</td>\n",
       "      <td>0.0</td>\n",
       "      <td>0.0</td>\n",
       "      <td>0.0</td>\n",
       "    </tr>\n",
       "    <tr>\n",
       "      <th>1.000120e+20</th>\n",
       "      <td>0.0</td>\n",
       "      <td>0.0</td>\n",
       "      <td>0.0</td>\n",
       "      <td>0.0</td>\n",
       "      <td>0.0</td>\n",
       "      <td>0.0</td>\n",
       "      <td>0.0</td>\n",
       "      <td>0.0</td>\n",
       "      <td>0.0</td>\n",
       "      <td>0.0</td>\n",
       "      <td>...</td>\n",
       "      <td>5.0</td>\n",
       "      <td>0.0</td>\n",
       "      <td>0.0</td>\n",
       "      <td>0.0</td>\n",
       "      <td>0.0</td>\n",
       "      <td>0.0</td>\n",
       "      <td>0.0</td>\n",
       "      <td>0.0</td>\n",
       "      <td>0.0</td>\n",
       "      <td>0.0</td>\n",
       "    </tr>\n",
       "    <tr>\n",
       "      <th>...</th>\n",
       "      <td>...</td>\n",
       "      <td>...</td>\n",
       "      <td>...</td>\n",
       "      <td>...</td>\n",
       "      <td>...</td>\n",
       "      <td>...</td>\n",
       "      <td>...</td>\n",
       "      <td>...</td>\n",
       "      <td>...</td>\n",
       "      <td>...</td>\n",
       "      <td>...</td>\n",
       "      <td>...</td>\n",
       "      <td>...</td>\n",
       "      <td>...</td>\n",
       "      <td>...</td>\n",
       "      <td>...</td>\n",
       "      <td>...</td>\n",
       "      <td>...</td>\n",
       "      <td>...</td>\n",
       "      <td>...</td>\n",
       "      <td>...</td>\n",
       "    </tr>\n",
       "    <tr>\n",
       "      <th>1.184390e+20</th>\n",
       "      <td>0.0</td>\n",
       "      <td>0.0</td>\n",
       "      <td>0.0</td>\n",
       "      <td>0.0</td>\n",
       "      <td>0.0</td>\n",
       "      <td>0.0</td>\n",
       "      <td>0.0</td>\n",
       "      <td>0.0</td>\n",
       "      <td>0.0</td>\n",
       "      <td>0.0</td>\n",
       "      <td>...</td>\n",
       "      <td>0.0</td>\n",
       "      <td>0.0</td>\n",
       "      <td>0.0</td>\n",
       "      <td>0.0</td>\n",
       "      <td>0.0</td>\n",
       "      <td>0.0</td>\n",
       "      <td>0.0</td>\n",
       "      <td>0.0</td>\n",
       "      <td>0.0</td>\n",
       "      <td>0.0</td>\n",
       "    </tr>\n",
       "    <tr>\n",
       "      <th>1.184410e+20</th>\n",
       "      <td>0.0</td>\n",
       "      <td>0.0</td>\n",
       "      <td>0.0</td>\n",
       "      <td>0.0</td>\n",
       "      <td>0.0</td>\n",
       "      <td>0.0</td>\n",
       "      <td>0.0</td>\n",
       "      <td>0.0</td>\n",
       "      <td>0.0</td>\n",
       "      <td>0.0</td>\n",
       "      <td>...</td>\n",
       "      <td>0.0</td>\n",
       "      <td>0.0</td>\n",
       "      <td>0.0</td>\n",
       "      <td>0.0</td>\n",
       "      <td>0.0</td>\n",
       "      <td>0.0</td>\n",
       "      <td>0.0</td>\n",
       "      <td>0.0</td>\n",
       "      <td>0.0</td>\n",
       "      <td>0.0</td>\n",
       "    </tr>\n",
       "    <tr>\n",
       "      <th>1.184430e+20</th>\n",
       "      <td>0.0</td>\n",
       "      <td>0.0</td>\n",
       "      <td>0.0</td>\n",
       "      <td>0.0</td>\n",
       "      <td>0.0</td>\n",
       "      <td>0.0</td>\n",
       "      <td>0.0</td>\n",
       "      <td>0.0</td>\n",
       "      <td>0.0</td>\n",
       "      <td>0.0</td>\n",
       "      <td>...</td>\n",
       "      <td>0.0</td>\n",
       "      <td>0.0</td>\n",
       "      <td>0.0</td>\n",
       "      <td>0.0</td>\n",
       "      <td>0.0</td>\n",
       "      <td>0.0</td>\n",
       "      <td>0.0</td>\n",
       "      <td>0.0</td>\n",
       "      <td>0.0</td>\n",
       "      <td>0.0</td>\n",
       "    </tr>\n",
       "    <tr>\n",
       "      <th>1.184440e+20</th>\n",
       "      <td>0.0</td>\n",
       "      <td>0.0</td>\n",
       "      <td>0.0</td>\n",
       "      <td>0.0</td>\n",
       "      <td>0.0</td>\n",
       "      <td>0.0</td>\n",
       "      <td>0.0</td>\n",
       "      <td>0.0</td>\n",
       "      <td>0.0</td>\n",
       "      <td>0.0</td>\n",
       "      <td>...</td>\n",
       "      <td>0.0</td>\n",
       "      <td>0.0</td>\n",
       "      <td>0.0</td>\n",
       "      <td>0.0</td>\n",
       "      <td>0.0</td>\n",
       "      <td>0.0</td>\n",
       "      <td>0.0</td>\n",
       "      <td>0.0</td>\n",
       "      <td>0.0</td>\n",
       "      <td>0.0</td>\n",
       "    </tr>\n",
       "    <tr>\n",
       "      <th>1.184460e+20</th>\n",
       "      <td>0.0</td>\n",
       "      <td>0.0</td>\n",
       "      <td>0.0</td>\n",
       "      <td>0.0</td>\n",
       "      <td>0.0</td>\n",
       "      <td>0.0</td>\n",
       "      <td>0.0</td>\n",
       "      <td>0.0</td>\n",
       "      <td>0.0</td>\n",
       "      <td>0.0</td>\n",
       "      <td>...</td>\n",
       "      <td>0.0</td>\n",
       "      <td>0.0</td>\n",
       "      <td>0.0</td>\n",
       "      <td>0.0</td>\n",
       "      <td>0.0</td>\n",
       "      <td>0.0</td>\n",
       "      <td>0.0</td>\n",
       "      <td>0.0</td>\n",
       "      <td>0.0</td>\n",
       "      <td>0.0</td>\n",
       "    </tr>\n",
       "  </tbody>\n",
       "</table>\n",
       "<p>8905 rows × 98 columns</p>\n",
       "</div>"
      ],
      "text/plain": [
       "Nama_tempat_wisata  Aek Rangat Pangururan  Aek Sipangolu Bakkara  \\\n",
       "user_id                                                            \n",
       "1.000030e+20                          0.0                    0.0   \n",
       "1.000040e+20                          0.0                    0.0   \n",
       "1.000090e+20                          0.0                    0.0   \n",
       "1.000100e+20                          0.0                    0.0   \n",
       "1.000120e+20                          0.0                    0.0   \n",
       "...                                   ...                    ...   \n",
       "1.184390e+20                          0.0                    0.0   \n",
       "1.184410e+20                          0.0                    0.0   \n",
       "1.184430e+20                          0.0                    0.0   \n",
       "1.184440e+20                          0.0                    0.0   \n",
       "1.184460e+20                          0.0                    0.0   \n",
       "\n",
       "Nama_tempat_wisata  Air Terjun Efrata  Air Terjun Janji  Air Terjun Pandumaan  \\\n",
       "user_id                                                                         \n",
       "1.000030e+20                      0.0               0.0                   0.0   \n",
       "1.000040e+20                      0.0               0.0                   0.0   \n",
       "1.000090e+20                      0.0               0.0                   0.0   \n",
       "1.000100e+20                      0.0               0.0                   0.0   \n",
       "1.000120e+20                      0.0               0.0                   0.0   \n",
       "...                               ...               ...                   ...   \n",
       "1.184390e+20                      0.0               0.0                   0.0   \n",
       "1.184410e+20                      0.0               0.0                   0.0   \n",
       "1.184430e+20                      0.0               0.0                   0.0   \n",
       "1.184440e+20                      0.0               0.0                   0.0   \n",
       "1.184460e+20                      0.0               0.0                   0.0   \n",
       "\n",
       "Nama_tempat_wisata  Air Terjun Sampuran  Air Terjun Siboruon  \\\n",
       "user_id                                                        \n",
       "1.000030e+20                        0.0                  0.0   \n",
       "1.000040e+20                        0.0                  0.0   \n",
       "1.000090e+20                        0.0                  0.0   \n",
       "1.000100e+20                        0.0                  0.0   \n",
       "1.000120e+20                        0.0                  0.0   \n",
       "...                                 ...                  ...   \n",
       "1.184390e+20                        0.0                  0.0   \n",
       "1.184410e+20                        0.0                  0.0   \n",
       "1.184430e+20                        0.0                  0.0   \n",
       "1.184440e+20                        0.0                  0.0   \n",
       "1.184460e+20                        0.0                  0.0   \n",
       "\n",
       "Nama_tempat_wisata  Air Terjun Situmurun  Air Terjun Taman Eden 100  \\\n",
       "user_id                                                               \n",
       "1.000030e+20                         0.0                        0.0   \n",
       "1.000040e+20                         0.0                        0.0   \n",
       "1.000090e+20                         0.0                        0.0   \n",
       "1.000100e+20                         0.0                        0.0   \n",
       "1.000120e+20                         0.0                        0.0   \n",
       "...                                  ...                        ...   \n",
       "1.184390e+20                         0.0                        0.0   \n",
       "1.184410e+20                         0.0                        0.0   \n",
       "1.184430e+20                         0.0                        0.0   \n",
       "1.184440e+20                         0.0                        0.0   \n",
       "1.184460e+20                         0.0                        0.0   \n",
       "\n",
       "Nama_tempat_wisata  Air Terjun Tombak Pangaribuan  ...  Tao Silalahi Hotel  \\\n",
       "user_id                                            ...                       \n",
       "1.000030e+20                                  0.0  ...                 0.0   \n",
       "1.000040e+20                                  0.0  ...                 0.0   \n",
       "1.000090e+20                                  0.0  ...                 0.0   \n",
       "1.000100e+20                                  0.0  ...                 0.0   \n",
       "1.000120e+20                                  0.0  ...                 5.0   \n",
       "...                                           ...  ...                 ...   \n",
       "1.184390e+20                                  0.0  ...                 0.0   \n",
       "1.184410e+20                                  0.0  ...                 0.0   \n",
       "1.184430e+20                                  0.0  ...                 0.0   \n",
       "1.184440e+20                                  0.0  ...                 0.0   \n",
       "1.184460e+20                                  0.0  ...                 0.0   \n",
       "\n",
       "Nama_tempat_wisata  Tarabunga  Tempat Pengasingan Soekarno  The Kaldera  \\\n",
       "user_id                                                                   \n",
       "1.000030e+20              0.0                          0.0          0.0   \n",
       "1.000040e+20              0.0                          0.0          0.0   \n",
       "1.000090e+20              0.0                          0.0          0.0   \n",
       "1.000100e+20              0.0                          0.0          0.0   \n",
       "1.000120e+20              0.0                          0.0          0.0   \n",
       "...                       ...                          ...          ...   \n",
       "1.184390e+20              0.0                          0.0          0.0   \n",
       "1.184410e+20              0.0                          0.0          0.0   \n",
       "1.184430e+20              0.0                          0.0          0.0   \n",
       "1.184440e+20              0.0                          0.0          0.0   \n",
       "1.184460e+20              0.0                          0.0          0.0   \n",
       "\n",
       "Nama_tempat_wisata  Tombak Sulusulu  Tugu D.I PANJAITAN  Tugu Toga Aritonang  \\\n",
       "user_id                                                                        \n",
       "1.000030e+20                    0.0                 0.0                  0.0   \n",
       "1.000040e+20                    0.0                 0.0                  0.0   \n",
       "1.000090e+20                    0.0                 0.0                  0.0   \n",
       "1.000100e+20                    0.0                 0.0                  0.0   \n",
       "1.000120e+20                    0.0                 0.0                  0.0   \n",
       "...                             ...                 ...                  ...   \n",
       "1.184390e+20                    0.0                 0.0                  0.0   \n",
       "1.184410e+20                    0.0                 0.0                  0.0   \n",
       "1.184430e+20                    0.0                 0.0                  0.0   \n",
       "1.184440e+20                    0.0                 0.0                  0.0   \n",
       "1.184460e+20                    0.0                 0.0                  0.0   \n",
       "\n",
       "Nama_tempat_wisata  WF Coffee&Resto  Wisata Bukit Gibeon  Wisata Rumah Pohon  \n",
       "user_id                                                                       \n",
       "1.000030e+20                    0.0                  0.0                 0.0  \n",
       "1.000040e+20                    0.0                  0.0                 0.0  \n",
       "1.000090e+20                    0.0                  0.0                 0.0  \n",
       "1.000100e+20                    0.0                  0.0                 0.0  \n",
       "1.000120e+20                    0.0                  0.0                 0.0  \n",
       "...                             ...                  ...                 ...  \n",
       "1.184390e+20                    0.0                  0.0                 0.0  \n",
       "1.184410e+20                    0.0                  0.0                 0.0  \n",
       "1.184430e+20                    0.0                  0.0                 0.0  \n",
       "1.184440e+20                    0.0                  0.0                 0.0  \n",
       "1.184460e+20                    0.0                  0.0                 0.0  \n",
       "\n",
       "[8905 rows x 98 columns]"
      ]
     },
     "execution_count": 10,
     "metadata": {},
     "output_type": "execute_result"
    }
   ],
   "source": [
    "train_matrix"
   ]
  },
  {
   "cell_type": "code",
   "execution_count": 11,
   "metadata": {},
   "outputs": [],
   "source": [
    "train_matrix_sparse = csr_matrix(train_matrix.values)\n",
    "val_matrix_sparse = csr_matrix(val_matrix.values)\n",
    "test_matrix_sparse = csr_matrix(test_matrix.values)"
   ]
  },
  {
   "cell_type": "code",
   "execution_count": 12,
   "metadata": {},
   "outputs": [
    {
     "data": {
      "text/plain": [
       "(8905, 98)"
      ]
     },
     "execution_count": 12,
     "metadata": {},
     "output_type": "execute_result"
    }
   ],
   "source": [
    "train_matrix_sparse.shape"
   ]
  },
  {
   "cell_type": "markdown",
   "metadata": {},
   "source": [
    "# Define RMSE, MAE, MAP, Precision, & Recall Calculation Function "
   ]
  },
  {
   "cell_type": "code",
   "execution_count": 13,
   "metadata": {},
   "outputs": [],
   "source": [
    "def compute_rmse(true_matrix, approx_matrix):\n",
    "    return np.sqrt(mean_squared_error(true_matrix.ravel(), approx_matrix.ravel()))"
   ]
  },
  {
   "cell_type": "code",
   "execution_count": 14,
   "metadata": {},
   "outputs": [],
   "source": [
    "from sklearn.metrics import mean_absolute_error\n",
    "\n",
    "def compute_mae(true_matrix, approx_matrix):\n",
    "    return mean_absolute_error(true_matrix.ravel(), approx_matrix.ravel())"
   ]
  },
  {
   "cell_type": "code",
   "execution_count": 15,
   "metadata": {},
   "outputs": [],
   "source": [
    "def precision_at_k(true_matrix, approx_matrix, k=10):\n",
    "    \"\"\"\n",
    "    Computes Precision@k for the recommendation system.\n",
    "    \"\"\"\n",
    "    precision = []\n",
    "    for i in range(true_matrix.shape[0]):\n",
    "        true_ratings = true_matrix.iloc[i, :].values  # Use .iloc for row-based indexing\n",
    "        approx_ratings = approx_matrix.iloc[i, :].values  # Use .iloc for row-based indexing\n",
    "        \n",
    "        # Get indices of top-k recommended items\n",
    "        top_k_indices = np.argsort(approx_ratings)[::-1][:k]\n",
    "        \n",
    "        # Check how many of the top-k recommended items are actually relevant (non-zero rating)\n",
    "        relevant_items = np.sum(true_ratings[top_k_indices] > 0)\n",
    "        precision.append(relevant_items / k)\n",
    "    \n",
    "    return np.mean(precision)"
   ]
  },
  {
   "cell_type": "code",
   "execution_count": 16,
   "metadata": {},
   "outputs": [],
   "source": [
    "def recall_at_k(true_matrix, approx_matrix, k=10):\n",
    "    \"\"\"\n",
    "    Computes Recall@k for the recommendation system.\n",
    "    \"\"\"\n",
    "    recall = []\n",
    "    for i in range(true_matrix.shape[0]):\n",
    "        true_ratings = true_matrix.iloc[i, :].values  # Use .iloc for row-based indexing\n",
    "        approx_ratings = approx_matrix.iloc[i, :].values  # Use .iloc for row-based indexing\n",
    "        \n",
    "        # Get indices of top-k recommended items\n",
    "        top_k_indices = np.argsort(approx_ratings)[::-1][:k]\n",
    "        \n",
    "        # Check how many of the relevant items (non-zero ratings) are retrieved in the top-k\n",
    "        relevant_items = np.sum(true_ratings[top_k_indices] > 0)\n",
    "        total_relevant = np.sum(true_ratings > 0)\n",
    "        \n",
    "        # If there are no relevant items for the user, avoid division by zero\n",
    "        if total_relevant == 0:\n",
    "            recall.append(0)\n",
    "        else:\n",
    "            recall.append(relevant_items / total_relevant)\n",
    "    \n",
    "    return np.mean(recall)"
   ]
  },
  {
   "cell_type": "code",
   "execution_count": 17,
   "metadata": {},
   "outputs": [],
   "source": [
    "def average_precision_at_k(true_matrix, approx_matrix, k=10):\n",
    "    \"\"\"\n",
    "    Computes Average Precision@k for each user, then returns the Mean Average Precision@k.\n",
    "    \"\"\"\n",
    "    avg_precision = []\n",
    "    for i in range(true_matrix.shape[0]):\n",
    "        true_ratings = true_matrix.iloc[i, :].values  # Use .iloc for row-based indexing\n",
    "        approx_ratings = approx_matrix.iloc[i, :].values  # Use .iloc for row-based indexing\n",
    "        \n",
    "        # Get indices of top-k recommended items\n",
    "        top_k_indices = np.argsort(approx_ratings)[::-1][:k]\n",
    "        \n",
    "        # Calculate precision at each rank in the top-k list\n",
    "        relevant_items = np.sum(true_ratings[top_k_indices] > 0)\n",
    "        precision_at_i = np.array([1 if true_ratings[idx] > 0 else 0 for idx in top_k_indices])\n",
    "        precision_at_i_cumsum = np.cumsum(precision_at_i) / (np.arange(k) + 1)\n",
    "        \n",
    "        # Average Precision for this user\n",
    "        avg_precision_user = np.sum(precision_at_i_cumsum * precision_at_i) / relevant_items if relevant_items > 0 else 0\n",
    "        avg_precision.append(avg_precision_user)\n",
    "    \n",
    "    return np.mean(avg_precision)"
   ]
  },
  {
   "cell_type": "markdown",
   "metadata": {},
   "source": [
    "# ALS"
   ]
  },
  {
   "cell_type": "markdown",
   "metadata": {},
   "source": [
    "## No Tuning"
   ]
  },
  {
   "cell_type": "code",
   "execution_count": 18,
   "metadata": {},
   "outputs": [],
   "source": [
    "import implicit"
   ]
  },
  {
   "cell_type": "code",
   "execution_count": 19,
   "metadata": {},
   "outputs": [
    {
     "name": "stderr",
     "output_type": "stream",
     "text": [
      "C:\\Users\\walkervalentinus\\AppData\\Roaming\\Python\\Python311\\site-packages\\implicit\\cpu\\als.py:95: RuntimeWarning: OpenBLAS is configured to use 8 threads. It is highly recommended to disable its internal threadpool by setting the environment variable 'OPENBLAS_NUM_THREADS=1' or by calling 'threadpoolctl.threadpool_limits(1, \"blas\")'. Having OpenBLAS use a threadpool can lead to severe performance issues here.\n",
      "  check_blas_config()\n"
     ]
    }
   ],
   "source": [
    "als_model = implicit.als.AlternatingLeastSquares(factors=10, regularization=0.1, iterations=20, random_state=42)"
   ]
  },
  {
   "cell_type": "code",
   "execution_count": 20,
   "metadata": {},
   "outputs": [
    {
     "data": {
      "application/vnd.jupyter.widget-view+json": {
       "model_id": "2aaed4bcca74417d9ca88f12be30ed37",
       "version_major": 2,
       "version_minor": 0
      },
      "text/plain": [
       "  0%|          | 0/20 [00:00<?, ?it/s]"
      ]
     },
     "metadata": {},
     "output_type": "display_data"
    }
   ],
   "source": [
    "als_model.fit(train_matrix_sparse)"
   ]
  },
  {
   "cell_type": "code",
   "execution_count": 21,
   "metadata": {},
   "outputs": [],
   "source": [
    "user_factors = als_model.user_factors\n",
    "item_factors = als_model.item_factors\n",
    "\n",
    "predicted_ratings = user_factors.dot(item_factors.T)\n",
    "\n",
    "predicted_matrix = pd.DataFrame(predicted_ratings, columns=train_matrix.columns, index=train_matrix.index)"
   ]
  },
  {
   "cell_type": "code",
   "execution_count": 22,
   "metadata": {},
   "outputs": [
    {
     "name": "stdout",
     "output_type": "stream",
     "text": [
      "Test Matrix shape: (2838, 98)\n",
      "Predicted Matrix shape: (8905, 98)\n"
     ]
    }
   ],
   "source": [
    "print(f\"Test Matrix shape: {test_matrix.shape}\")\n",
    "print(f\"Predicted Matrix shape: {predicted_matrix.shape}\")"
   ]
  },
  {
   "cell_type": "code",
   "execution_count": 23,
   "metadata": {},
   "outputs": [],
   "source": [
    "# Reindex to match the test set\n",
    "predicted_matrix = predicted_matrix.reindex(index=test_matrix.index, columns=test_matrix.columns, fill_value=0)"
   ]
  },
  {
   "cell_type": "code",
   "execution_count": 24,
   "metadata": {},
   "outputs": [
    {
     "name": "stdout",
     "output_type": "stream",
     "text": [
      "Test Matrix shape: (2838, 98)\n",
      "Predicted Matrix shape: (2838, 98)\n"
     ]
    }
   ],
   "source": [
    "print(f\"Test Matrix shape: {test_matrix.shape}\")\n",
    "print(f\"Predicted Matrix shape: {predicted_matrix.shape}\")"
   ]
  },
  {
   "cell_type": "code",
   "execution_count": 25,
   "metadata": {},
   "outputs": [
    {
     "name": "stdout",
     "output_type": "stream",
     "text": [
      "Test RMSE: 0.5091\n",
      "Test MAE: 0.1063\n"
     ]
    }
   ],
   "source": [
    "test_rmse = compute_rmse(test_matrix.values, predicted_matrix.values)\n",
    "test_mae = compute_mae(test_matrix.values, predicted_matrix.values)\n",
    "\n",
    "print(f\"Test RMSE: {test_rmse:.4f}\")\n",
    "print(f\"Test MAE: {test_mae:.4f}\")"
   ]
  },
  {
   "cell_type": "code",
   "execution_count": 26,
   "metadata": {},
   "outputs": [],
   "source": [
    "k = 10\n",
    "precision_k = precision_at_k(test_matrix, predicted_matrix, k)\n",
    "recall_k = recall_at_k(test_matrix, predicted_matrix, k)\n",
    "map_k = average_precision_at_k(test_matrix, predicted_matrix, k)"
   ]
  },
  {
   "cell_type": "code",
   "execution_count": 27,
   "metadata": {},
   "outputs": [
    {
     "name": "stdout",
     "output_type": "stream",
     "text": [
      "Precision@10: 0.0273\n",
      "Recall@10: 0.2313\n",
      "MAP@10: 0.0840\n"
     ]
    }
   ],
   "source": [
    "print(f\"Precision@{k}: {precision_k:.4f}\")\n",
    "print(f\"Recall@{k}: {recall_k:.4f}\")\n",
    "print(f\"MAP@{k}: {map_k:.4f}\")"
   ]
  },
  {
   "cell_type": "code",
   "execution_count": 28,
   "metadata": {},
   "outputs": [],
   "source": [
    "k = 5\n",
    "precision_k = precision_at_k(test_matrix, predicted_matrix, k)\n",
    "recall_k = recall_at_k(test_matrix, predicted_matrix, k)\n",
    "map_k = average_precision_at_k(test_matrix, predicted_matrix, k)"
   ]
  },
  {
   "cell_type": "code",
   "execution_count": 29,
   "metadata": {},
   "outputs": [
    {
     "name": "stdout",
     "output_type": "stream",
     "text": [
      "Precision@5: 0.0311\n",
      "Recall@5: 0.1312\n",
      "MAP@5: 0.0699\n"
     ]
    }
   ],
   "source": [
    "print(f\"Precision@{k}: {precision_k:.4f}\")\n",
    "print(f\"Recall@{k}: {recall_k:.4f}\")\n",
    "print(f\"MAP@{k}: {map_k:.4f}\")"
   ]
  },
  {
   "cell_type": "markdown",
   "metadata": {},
   "source": [
    "## With Tuning"
   ]
  },
  {
   "cell_type": "code",
   "execution_count": 30,
   "metadata": {},
   "outputs": [],
   "source": [
    "from sklearn.model_selection import ParameterGrid"
   ]
  },
  {
   "cell_type": "code",
   "execution_count": 31,
   "metadata": {},
   "outputs": [],
   "source": [
    "train_rmse_list = []\n",
    "val_rmse_list = []\n",
    "param_combinations = []"
   ]
  },
  {
   "cell_type": "code",
   "execution_count": 32,
   "metadata": {},
   "outputs": [],
   "source": [
    "param_grid = {\n",
    "    'factors': [10, 20, 50],\n",
    "    'regularization': [0.05, 0.1, 0.2],\n",
    "    'iterations': [10, 20, 30]\n",
    "}\n",
    "\n",
    "best_rmse = float('inf')\n",
    "best_params = None"
   ]
  },
  {
   "cell_type": "code",
   "execution_count": 34,
   "metadata": {},
   "outputs": [
    {
     "data": {
      "application/vnd.jupyter.widget-view+json": {
       "model_id": "7281e888404d4b37bc0b250d9aa4b44a",
       "version_major": 2,
       "version_minor": 0
      },
      "text/plain": [
       "  0%|          | 0/10 [00:00<?, ?it/s]"
      ]
     },
     "metadata": {},
     "output_type": "display_data"
    },
    {
     "data": {
      "application/vnd.jupyter.widget-view+json": {
       "model_id": "f1b2341d94564b93b0dc3d70fecb2eeb",
       "version_major": 2,
       "version_minor": 0
      },
      "text/plain": [
       "  0%|          | 0/10 [00:00<?, ?it/s]"
      ]
     },
     "metadata": {},
     "output_type": "display_data"
    },
    {
     "data": {
      "application/vnd.jupyter.widget-view+json": {
       "model_id": "3e12dc6b1f7f4dc3bafec4fb7d2405dd",
       "version_major": 2,
       "version_minor": 0
      },
      "text/plain": [
       "  0%|          | 0/10 [00:00<?, ?it/s]"
      ]
     },
     "metadata": {},
     "output_type": "display_data"
    },
    {
     "data": {
      "application/vnd.jupyter.widget-view+json": {
       "model_id": "3e3343797c054fd3bceb09cce900c4f2",
       "version_major": 2,
       "version_minor": 0
      },
      "text/plain": [
       "  0%|          | 0/20 [00:00<?, ?it/s]"
      ]
     },
     "metadata": {},
     "output_type": "display_data"
    },
    {
     "data": {
      "application/vnd.jupyter.widget-view+json": {
       "model_id": "fe319d83f0ee47bd9e25f6584c18bc20",
       "version_major": 2,
       "version_minor": 0
      },
      "text/plain": [
       "  0%|          | 0/20 [00:00<?, ?it/s]"
      ]
     },
     "metadata": {},
     "output_type": "display_data"
    },
    {
     "data": {
      "application/vnd.jupyter.widget-view+json": {
       "model_id": "07eefd8032f14c8d88b3bc1199e95ae7",
       "version_major": 2,
       "version_minor": 0
      },
      "text/plain": [
       "  0%|          | 0/20 [00:00<?, ?it/s]"
      ]
     },
     "metadata": {},
     "output_type": "display_data"
    },
    {
     "data": {
      "application/vnd.jupyter.widget-view+json": {
       "model_id": "ddbb9d332df44ba9af20b8a03336cd72",
       "version_major": 2,
       "version_minor": 0
      },
      "text/plain": [
       "  0%|          | 0/30 [00:00<?, ?it/s]"
      ]
     },
     "metadata": {},
     "output_type": "display_data"
    },
    {
     "data": {
      "application/vnd.jupyter.widget-view+json": {
       "model_id": "38b1a7aba9d04b96b2a3511a8815573b",
       "version_major": 2,
       "version_minor": 0
      },
      "text/plain": [
       "  0%|          | 0/30 [00:00<?, ?it/s]"
      ]
     },
     "metadata": {},
     "output_type": "display_data"
    },
    {
     "data": {
      "application/vnd.jupyter.widget-view+json": {
       "model_id": "1f8b23ba1dfb49979af9273ef43340df",
       "version_major": 2,
       "version_minor": 0
      },
      "text/plain": [
       "  0%|          | 0/30 [00:00<?, ?it/s]"
      ]
     },
     "metadata": {},
     "output_type": "display_data"
    },
    {
     "data": {
      "application/vnd.jupyter.widget-view+json": {
       "model_id": "bd31cf8f187743cd8717bc8ac5e0e3d8",
       "version_major": 2,
       "version_minor": 0
      },
      "text/plain": [
       "  0%|          | 0/10 [00:00<?, ?it/s]"
      ]
     },
     "metadata": {},
     "output_type": "display_data"
    },
    {
     "data": {
      "application/vnd.jupyter.widget-view+json": {
       "model_id": "3272c07ffda646be9286620a1567cfef",
       "version_major": 2,
       "version_minor": 0
      },
      "text/plain": [
       "  0%|          | 0/10 [00:00<?, ?it/s]"
      ]
     },
     "metadata": {},
     "output_type": "display_data"
    },
    {
     "data": {
      "application/vnd.jupyter.widget-view+json": {
       "model_id": "2e58f64e1604487fbfa14fff1e37174a",
       "version_major": 2,
       "version_minor": 0
      },
      "text/plain": [
       "  0%|          | 0/10 [00:00<?, ?it/s]"
      ]
     },
     "metadata": {},
     "output_type": "display_data"
    },
    {
     "data": {
      "application/vnd.jupyter.widget-view+json": {
       "model_id": "7852071f4e944ce1805e38d3ee4c05c8",
       "version_major": 2,
       "version_minor": 0
      },
      "text/plain": [
       "  0%|          | 0/20 [00:00<?, ?it/s]"
      ]
     },
     "metadata": {},
     "output_type": "display_data"
    },
    {
     "data": {
      "application/vnd.jupyter.widget-view+json": {
       "model_id": "fc9709b6fc0b4ed4aefeb73abacc10db",
       "version_major": 2,
       "version_minor": 0
      },
      "text/plain": [
       "  0%|          | 0/20 [00:00<?, ?it/s]"
      ]
     },
     "metadata": {},
     "output_type": "display_data"
    },
    {
     "data": {
      "application/vnd.jupyter.widget-view+json": {
       "model_id": "01557cebc9194b839c8bd8fbeb72b639",
       "version_major": 2,
       "version_minor": 0
      },
      "text/plain": [
       "  0%|          | 0/20 [00:00<?, ?it/s]"
      ]
     },
     "metadata": {},
     "output_type": "display_data"
    },
    {
     "data": {
      "application/vnd.jupyter.widget-view+json": {
       "model_id": "2f201b7ea3ab445cbe6f727cb1c5c123",
       "version_major": 2,
       "version_minor": 0
      },
      "text/plain": [
       "  0%|          | 0/30 [00:00<?, ?it/s]"
      ]
     },
     "metadata": {},
     "output_type": "display_data"
    },
    {
     "data": {
      "application/vnd.jupyter.widget-view+json": {
       "model_id": "2fda368b01c94c0eb3c38bc778939ab7",
       "version_major": 2,
       "version_minor": 0
      },
      "text/plain": [
       "  0%|          | 0/30 [00:00<?, ?it/s]"
      ]
     },
     "metadata": {},
     "output_type": "display_data"
    },
    {
     "data": {
      "application/vnd.jupyter.widget-view+json": {
       "model_id": "9889fd6132cd4eae9b238e043753fd16",
       "version_major": 2,
       "version_minor": 0
      },
      "text/plain": [
       "  0%|          | 0/30 [00:00<?, ?it/s]"
      ]
     },
     "metadata": {},
     "output_type": "display_data"
    },
    {
     "data": {
      "application/vnd.jupyter.widget-view+json": {
       "model_id": "879d099842ac4d80b34c2a57e8a76962",
       "version_major": 2,
       "version_minor": 0
      },
      "text/plain": [
       "  0%|          | 0/10 [00:00<?, ?it/s]"
      ]
     },
     "metadata": {},
     "output_type": "display_data"
    },
    {
     "data": {
      "application/vnd.jupyter.widget-view+json": {
       "model_id": "be4a2fd0c2b9443c853359383eae794b",
       "version_major": 2,
       "version_minor": 0
      },
      "text/plain": [
       "  0%|          | 0/10 [00:00<?, ?it/s]"
      ]
     },
     "metadata": {},
     "output_type": "display_data"
    },
    {
     "data": {
      "application/vnd.jupyter.widget-view+json": {
       "model_id": "48d666ab98b7476aa7b558ce2c34a797",
       "version_major": 2,
       "version_minor": 0
      },
      "text/plain": [
       "  0%|          | 0/10 [00:00<?, ?it/s]"
      ]
     },
     "metadata": {},
     "output_type": "display_data"
    },
    {
     "data": {
      "application/vnd.jupyter.widget-view+json": {
       "model_id": "f39bb8bed11049759ef64ccca10875dd",
       "version_major": 2,
       "version_minor": 0
      },
      "text/plain": [
       "  0%|          | 0/20 [00:00<?, ?it/s]"
      ]
     },
     "metadata": {},
     "output_type": "display_data"
    },
    {
     "data": {
      "application/vnd.jupyter.widget-view+json": {
       "model_id": "351c2a97171e4b5ea456cf4e59ef74eb",
       "version_major": 2,
       "version_minor": 0
      },
      "text/plain": [
       "  0%|          | 0/20 [00:00<?, ?it/s]"
      ]
     },
     "metadata": {},
     "output_type": "display_data"
    },
    {
     "data": {
      "application/vnd.jupyter.widget-view+json": {
       "model_id": "005f8809b33642f1bcde09f98b178a03",
       "version_major": 2,
       "version_minor": 0
      },
      "text/plain": [
       "  0%|          | 0/20 [00:00<?, ?it/s]"
      ]
     },
     "metadata": {},
     "output_type": "display_data"
    },
    {
     "data": {
      "application/vnd.jupyter.widget-view+json": {
       "model_id": "ed17f0c0d78b473f8175f3cea93e7155",
       "version_major": 2,
       "version_minor": 0
      },
      "text/plain": [
       "  0%|          | 0/30 [00:00<?, ?it/s]"
      ]
     },
     "metadata": {},
     "output_type": "display_data"
    },
    {
     "data": {
      "application/vnd.jupyter.widget-view+json": {
       "model_id": "91a76d45f0b44e4cac6807b5e899e325",
       "version_major": 2,
       "version_minor": 0
      },
      "text/plain": [
       "  0%|          | 0/30 [00:00<?, ?it/s]"
      ]
     },
     "metadata": {},
     "output_type": "display_data"
    },
    {
     "data": {
      "application/vnd.jupyter.widget-view+json": {
       "model_id": "cb36ad01f32c48488a07f84dd64b95ee",
       "version_major": 2,
       "version_minor": 0
      },
      "text/plain": [
       "  0%|          | 0/30 [00:00<?, ?it/s]"
      ]
     },
     "metadata": {},
     "output_type": "display_data"
    }
   ],
   "source": [
    "for params in ParameterGrid(param_grid):\n",
    "    als_model = implicit.als.AlternatingLeastSquares(factors=params['factors'],\n",
    "                                                     regularization=params['regularization'],\n",
    "                                                     iterations=params['iterations'],\n",
    "                                                     random_state=42)\n",
    "    als_model.fit(train_matrix_sparse)\n",
    "\n",
    "    # Predict ratings for training users (this works as before)\n",
    "    train_predicted_ratings = als_model.user_factors.dot(als_model.item_factors.T)\n",
    "    train_predicted_matrix = pd.DataFrame(train_predicted_ratings, \n",
    "                                          columns=train_matrix.columns, \n",
    "                                          index=train_matrix.index)\n",
    "\n",
    "    # Predict ratings for validation set\n",
    "    val_predicted_ratings = als_model.user_factors.dot(als_model.item_factors.T)\n",
    "\n",
    "    # Get the indices of users in the validation set\n",
    "    common_users = val_matrix.index.intersection(train_matrix.index)\n",
    "\n",
    "    # Find the positions of the common users in the training user factors (ALS)\n",
    "    common_user_indices = [train_matrix.index.get_loc(user) for user in common_users]\n",
    "\n",
    "    # Get the corresponding predicted ratings for the common users\n",
    "    val_predicted_ratings_filtered = val_predicted_ratings[common_user_indices, :]\n",
    "\n",
    "    # Reindex the validation matrix to match the common users and items\n",
    "    val_predicted_matrix = pd.DataFrame(val_predicted_ratings_filtered, \n",
    "                                        columns=train_matrix.columns, \n",
    "                                        index=common_users)\n",
    "\n",
    "    # Compute RMSE for training and validation sets\n",
    "    train_rmse = compute_rmse(train_matrix.values, train_predicted_matrix.values)\n",
    "    val_rmse = compute_rmse(val_matrix.loc[common_users, :].values, val_predicted_matrix.values)\n",
    "\n",
    "    # Store results\n",
    "    train_rmse_list.append(train_rmse)\n",
    "    val_rmse_list.append(val_rmse)\n",
    "    param_combinations.append(params)\n"
   ]
  },
  {
   "cell_type": "code",
   "execution_count": 35,
   "metadata": {},
   "outputs": [],
   "source": [
    "tuning_results = pd.DataFrame({\n",
    "    'params': [str(params) for params in param_combinations],\n",
    "    'train_rmse': train_rmse_list,\n",
    "    'val_rmse': val_rmse_list\n",
    "})"
   ]
  },
  {
   "cell_type": "code",
   "execution_count": 36,
   "metadata": {},
   "outputs": [
    {
     "data": {
      "image/png": "[encoded data removed]",
      "text/plain": [
       "<Figure size 1000x600 with 1 Axes>"
      ]
     },
     "metadata": {},
     "output_type": "display_data"
    }
   ],
   "source": [
    "plt.figure(figsize=(10, 6))\n",
    "# Plot training RMSE and validation RMSE\n",
    "plt.plot(tuning_results['params'], tuning_results['train_rmse'], label='Training RMSE', marker='o')\n",
    "plt.plot(tuning_results['params'], tuning_results['val_rmse'], label='Validation RMSE', marker='x')\n",
    "\n",
    "# Adding labels and title\n",
    "plt.xlabel('Hyperparameters')\n",
    "plt.ylabel('RMSE')\n",
    "plt.title('Training and Validation RMSE During Hyperparameter Tuning')\n",
    "plt.xticks(rotation=45, ha='right')  # Rotate labels for readability\n",
    "plt.legend()\n",
    "plt.tight_layout()\n",
    "plt.show()"
   ]
  },
  {
   "cell_type": "code",
   "execution_count": 37,
   "metadata": {},
   "outputs": [],
   "source": [
    "als_tune = implicit.als.AlternatingLeastSquares(factors=50, regularization=0.2, iterations=30, random_state=42)"
   ]
  },
  {
   "cell_type": "code",
   "execution_count": 38,
   "metadata": {},
   "outputs": [
    {
     "data": {
      "application/vnd.jupyter.widget-view+json": {
       "model_id": "027cb6cb505645aab0e2ba4731f50d5f",
       "version_major": 2,
       "version_minor": 0
      },
      "text/plain": [
       "  0%|          | 0/30 [00:00<?, ?it/s]"
      ]
     },
     "metadata": {},
     "output_type": "display_data"
    }
   ],
   "source": [
    "als_tune.fit(train_matrix_sparse)"
   ]
  },
  {
   "cell_type": "code",
   "execution_count": 39,
   "metadata": {},
   "outputs": [],
   "source": [
    "user_factors = als_tune.user_factors\n",
    "item_factors = als_tune.item_factors\n",
    "\n",
    "predicted_ratings = user_factors.dot(item_factors.T)\n",
    "\n",
    "predicted_matrix = pd.DataFrame(predicted_ratings, columns=train_matrix.columns, index=train_matrix.index)"
   ]
  },
  {
   "cell_type": "code",
   "execution_count": 40,
   "metadata": {},
   "outputs": [
    {
     "name": "stdout",
     "output_type": "stream",
     "text": [
      "Test Matrix shape: (2838, 98)\n",
      "Predicted Matrix shape: (8905, 98)\n"
     ]
    }
   ],
   "source": [
    "print(f\"Test Matrix shape: {test_matrix.shape}\")\n",
    "print(f\"Predicted Matrix shape: {predicted_matrix.shape}\")"
   ]
  },
  {
   "cell_type": "code",
   "execution_count": 41,
   "metadata": {},
   "outputs": [],
   "source": [
    "# Reindex to match the test set\n",
    "predicted_matrix = predicted_matrix.reindex(index=test_matrix.index, columns=test_matrix.columns, fill_value=0)"
   ]
  },
  {
   "cell_type": "code",
   "execution_count": 42,
   "metadata": {},
   "outputs": [
    {
     "name": "stdout",
     "output_type": "stream",
     "text": [
      "Test Matrix shape: (2838, 98)\n",
      "Predicted Matrix shape: (2838, 98)\n"
     ]
    }
   ],
   "source": [
    "print(f\"Test Matrix shape: {test_matrix.shape}\")\n",
    "print(f\"Predicted Matrix shape: {predicted_matrix.shape}\")"
   ]
  },
  {
   "cell_type": "code",
   "execution_count": 43,
   "metadata": {},
   "outputs": [
    {
     "name": "stdout",
     "output_type": "stream",
     "text": [
      "Test RMSE: 0.5144\n",
      "Test MAE: 0.0839\n"
     ]
    }
   ],
   "source": [
    "test_rmse = compute_rmse(test_matrix.values, predicted_matrix.values)\n",
    "test_mae = compute_mae(test_matrix.values, predicted_matrix.values)\n",
    "\n",
    "print(f\"Test RMSE: {test_rmse:.4f}\")\n",
    "print(f\"Test MAE: {test_mae:.4f}\")"
   ]
  },
  {
   "cell_type": "code",
   "execution_count": 44,
   "metadata": {},
   "outputs": [],
   "source": [
    "k = 10\n",
    "precision_k = precision_at_k(test_matrix, predicted_matrix, k)\n",
    "recall_k = recall_at_k(test_matrix, predicted_matrix, k)\n",
    "map_k = average_precision_at_k(test_matrix, predicted_matrix, k)"
   ]
  },
  {
   "cell_type": "code",
   "execution_count": 45,
   "metadata": {},
   "outputs": [
    {
     "name": "stdout",
     "output_type": "stream",
     "text": [
      "Precision@10: 0.0102\n",
      "Recall@10: 0.0876\n",
      "MAP@10: 0.0334\n"
     ]
    }
   ],
   "source": [
    "print(f\"Precision@{k}: {precision_k:.4f}\")\n",
    "print(f\"Recall@{k}: {recall_k:.4f}\")\n",
    "print(f\"MAP@{k}: {map_k:.4f}\")"
   ]
  },
  {
   "cell_type": "code",
   "execution_count": 46,
   "metadata": {},
   "outputs": [],
   "source": [
    "k = 5\n",
    "precision_k = precision_at_k(test_matrix, predicted_matrix, k)\n",
    "recall_k = recall_at_k(test_matrix, predicted_matrix, k)\n",
    "map_k = average_precision_at_k(test_matrix, predicted_matrix, k)"
   ]
  },
  {
   "cell_type": "code",
   "execution_count": 47,
   "metadata": {},
   "outputs": [
    {
     "name": "stdout",
     "output_type": "stream",
     "text": [
      "Precision@5: 0.0112\n",
      "Recall@5: 0.0477\n",
      "MAP@5: 0.0275\n"
     ]
    }
   ],
   "source": [
    "print(f\"Precision@{k}: {precision_k:.4f}\")\n",
    "print(f\"Recall@{k}: {recall_k:.4f}\")\n",
    "print(f\"MAP@{k}: {map_k:.4f}\")"
   ]
  },
  {
   "cell_type": "markdown",
   "metadata": {},
   "source": [
    "## Recommendation for user ALS"
   ]
  },
  {
   "cell_type": "code",
   "execution_count": 54,
   "metadata": {},
   "outputs": [],
   "source": [
    "def get_top_n_recommendations(user_id, model, train_matrix, n=10):\n",
    "    # Ensure that the user_id corresponds to an actual user in the train_matrix\n",
    "    try:\n",
    "        # Get the integer index of the user_id in the train_matrix\n",
    "        user_index = train_matrix.index.get_loc(user_id)\n",
    "    except KeyError:\n",
    "        raise ValueError(f\"User ID {user_id} not found in the train matrix.\")\n",
    "    \n",
    "    # Get the user and item factors from the trained ALS model\n",
    "    user_factors = model.user_factors\n",
    "    item_factors = model.item_factors\n",
    "\n",
    "    # Predict ratings for all items (dot product of user and item factors)\n",
    "    predicted_ratings = user_factors[user_index, :].dot(item_factors.T)\n",
    "    \n",
    "    # Get the indices of the top n recommendations\n",
    "    top_n_indices = np.argsort(predicted_ratings)[::-1][:n]\n",
    "\n",
    "    # Map item indices to item IDs or names (if applicable)\n",
    "    recommended_items = train_matrix.columns[top_n_indices].tolist()\n",
    "\n",
    "    return recommended_items"
   ]
  },
  {
   "cell_type": "code",
   "execution_count": 57,
   "metadata": {},
   "outputs": [],
   "source": [
    "user_id = 1.000030e+20  # Specify the user\n",
    "recommended_places = get_top_n_recommendations(user_id, als_tune, train_matrix, n=10)"
   ]
  },
  {
   "cell_type": "code",
   "execution_count": 58,
   "metadata": {},
   "outputs": [
    {
     "name": "stdout",
     "output_type": "stream",
     "text": [
      "Rekomendasi tempat wisata untuk user 1.00003e+20:\n",
      "1. Sapo Juma\n",
      "2. Bukit Sibea-Bea\n",
      "3. Air Terjun Taman Eden 100\n",
      "4. Patung Sigale gale\n",
      "5. Pesanggrahan Bung Karno\n",
      "6. Kebun Raya Samosir, SUMUT\n",
      "7. Bukit Senyum Motung\n",
      "8. Desa Meat\n",
      "9. Pantai Silalahi\n",
      "10. Tugu Toga Aritonang\n"
     ]
    }
   ],
   "source": [
    "print(f\"Rekomendasi tempat wisata untuk user {user_id}:\")\n",
    "for idx, place in enumerate(recommended_places, 1):\n",
    "    print(f\"{idx}. {place}\")"
   ]
  },
  {
   "cell_type": "code",
   "execution_count": 68,
   "metadata": {},
   "outputs": [],
   "source": [
    "def get_top_n_places(model, train_matrix, n=10):\n",
    "    # Get the item factors from the trained ALS model\n",
    "    item_factors = model.item_factors\n",
    "\n",
    "    # Compute predicted ratings for all items across all users\n",
    "    predicted_ratings = model.user_factors.dot(item_factors.T)\n",
    "\n",
    "    # Sum predicted ratings for each item (place) across all users\n",
    "    total_ratings_per_item = predicted_ratings.sum(axis=0)\n",
    "\n",
    "    # Get the indices of the top n places based on the summed predicted ratings\n",
    "    top_n_indices = np.argsort(total_ratings_per_item)[::-1][:n]\n",
    "\n",
    "    # Map the indices to item (place) names in the train matrix columns\n",
    "    top_n_places = train_matrix.columns[top_n_indices].tolist()\n",
    "\n",
    "    return top_n_places\n"
   ]
  },
  {
   "cell_type": "code",
   "execution_count": 69,
   "metadata": {},
   "outputs": [],
   "source": [
    "n = 10\n",
    "\n",
    "top_places = get_top_n_places(als_tune, train_matrix, n)"
   ]
  },
  {
   "cell_type": "code",
   "execution_count": 70,
   "metadata": {},
   "outputs": [
    {
     "name": "stdout",
     "output_type": "stream",
     "text": [
      "Top 10 tempat wisata dengan rating tertinggi:\n",
      "1. Pantai Lumban Bul-bul Balige\n",
      "2. The Kaldera\n",
      "3. Bukit Holbung Samosir\n",
      "4. Pantai Bebas Parapat, Danau Toba\n",
      "5. Danau Toba Parapat\n",
      "6. Pertunjukan Tari Sigale Gale\n",
      "7. Museum Batak Tb Silalahi Center\n",
      "8. Air Terjun Efrata\n",
      "9. Pantai Pasir Putih Parbaba\n",
      "10. Batu Kursi Raja Siallagan ( Stone Chair of King Siallagan )\n"
     ]
    }
   ],
   "source": [
    "print(f\"Top {n} tempat wisata dengan rating tertinggi:\")\n",
    "for idx, place in enumerate(top_places, 1):\n",
    "    print(f\"{idx}. {place}\")"
   ]
  }
 ],
 "metadata": {
  "kernelspec": {
   "display_name": "base",
   "language": "python",
   "name": "python3"
  },
  "language_info": {
   "codemirror_mode": {
    "name": "ipython",
    "version": 3
   },
   "file_extension": ".py",
   "mimetype": "text/x-python",
   "name": "python",
   "nbconvert_exporter": "python",
   "pygments_lexer": "ipython3",
   "version": "3.11.4"
  }
 },
 "nbformat": 4,
 "nbformat_minor": 2
}
